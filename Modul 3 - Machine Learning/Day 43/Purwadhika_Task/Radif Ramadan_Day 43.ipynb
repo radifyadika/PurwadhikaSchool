{
 "cells": [
  {
   "cell_type": "markdown",
   "metadata": {},
   "source": [
    "* Radif Ramadan\n",
    "\n",
    "* Data Science / JCSDOL-014\n",
    "\n",
    "* Modul 3 - Day 43\n",
    "\n",
    "---\n",
    "---"
   ]
  },
  {
   "cell_type": "code",
   "execution_count": 132,
   "metadata": {},
   "outputs": [],
   "source": [
    "import pandas as pd\n",
    "import numpy as np\n",
    "import matplotlib.pyplot as plt\n",
    "import seaborn as sns\n",
    "\n",
    "from sklearn.model_selection import train_test_split\n",
    "from sklearn.preprocessing import RobustScaler\n",
    "from sklearn.compose import ColumnTransformer\n",
    "from sklearn.preprocessing import OneHotEncoder, LabelEncoder, TargetEncoder\n",
    "from category_encoders import OrdinalEncoder, BinaryEncoder\n",
    "from sklearn.pipeline import Pipeline\n",
    "from sklearn.feature_selection import SelectKBest, chi2\n",
    "from sklearn.ensemble import RandomForestClassifier\n",
    "from sklearn.linear_model import LogisticRegression\n",
    "from sklearn.metrics import accuracy_score, confusion_matrix, classification_report"
   ]
  },
  {
   "cell_type": "code",
   "execution_count": 133,
   "metadata": {},
   "outputs": [
    {
     "data": {
      "text/html": [
       "<div>\n",
       "<style scoped>\n",
       "    .dataframe tbody tr th:only-of-type {\n",
       "        vertical-align: middle;\n",
       "    }\n",
       "\n",
       "    .dataframe tbody tr th {\n",
       "        vertical-align: top;\n",
       "    }\n",
       "\n",
       "    .dataframe thead th {\n",
       "        text-align: right;\n",
       "    }\n",
       "</style>\n",
       "<table border=\"1\" class=\"dataframe\">\n",
       "  <thead>\n",
       "    <tr style=\"text-align: right;\">\n",
       "      <th></th>\n",
       "      <th>Education</th>\n",
       "      <th>JoiningYear</th>\n",
       "      <th>City</th>\n",
       "      <th>PaymentTier</th>\n",
       "      <th>Age</th>\n",
       "      <th>Gender</th>\n",
       "      <th>EverBenched</th>\n",
       "      <th>ExperienceInCurrentDomain</th>\n",
       "      <th>LeaveOrNot</th>\n",
       "    </tr>\n",
       "  </thead>\n",
       "  <tbody>\n",
       "    <tr>\n",
       "      <th>0</th>\n",
       "      <td>Bachelors</td>\n",
       "      <td>2017</td>\n",
       "      <td>Bangalore</td>\n",
       "      <td>3</td>\n",
       "      <td>34</td>\n",
       "      <td>Male</td>\n",
       "      <td>No</td>\n",
       "      <td>0</td>\n",
       "      <td>0</td>\n",
       "    </tr>\n",
       "    <tr>\n",
       "      <th>1</th>\n",
       "      <td>Bachelors</td>\n",
       "      <td>2013</td>\n",
       "      <td>Pune</td>\n",
       "      <td>1</td>\n",
       "      <td>28</td>\n",
       "      <td>Female</td>\n",
       "      <td>No</td>\n",
       "      <td>3</td>\n",
       "      <td>1</td>\n",
       "    </tr>\n",
       "    <tr>\n",
       "      <th>2</th>\n",
       "      <td>Bachelors</td>\n",
       "      <td>2014</td>\n",
       "      <td>New Delhi</td>\n",
       "      <td>3</td>\n",
       "      <td>38</td>\n",
       "      <td>Female</td>\n",
       "      <td>No</td>\n",
       "      <td>2</td>\n",
       "      <td>0</td>\n",
       "    </tr>\n",
       "    <tr>\n",
       "      <th>3</th>\n",
       "      <td>Masters</td>\n",
       "      <td>2016</td>\n",
       "      <td>Bangalore</td>\n",
       "      <td>3</td>\n",
       "      <td>27</td>\n",
       "      <td>Male</td>\n",
       "      <td>No</td>\n",
       "      <td>5</td>\n",
       "      <td>1</td>\n",
       "    </tr>\n",
       "    <tr>\n",
       "      <th>4</th>\n",
       "      <td>Masters</td>\n",
       "      <td>2017</td>\n",
       "      <td>Pune</td>\n",
       "      <td>3</td>\n",
       "      <td>24</td>\n",
       "      <td>Male</td>\n",
       "      <td>Yes</td>\n",
       "      <td>2</td>\n",
       "      <td>1</td>\n",
       "    </tr>\n",
       "  </tbody>\n",
       "</table>\n",
       "</div>"
      ],
      "text/plain": [
       "   Education  JoiningYear       City  PaymentTier  Age  Gender EverBenched  \\\n",
       "0  Bachelors         2017  Bangalore            3   34    Male          No   \n",
       "1  Bachelors         2013       Pune            1   28  Female          No   \n",
       "2  Bachelors         2014  New Delhi            3   38  Female          No   \n",
       "3    Masters         2016  Bangalore            3   27    Male          No   \n",
       "4    Masters         2017       Pune            3   24    Male         Yes   \n",
       "\n",
       "   ExperienceInCurrentDomain  LeaveOrNot  \n",
       "0                          0           0  \n",
       "1                          3           1  \n",
       "2                          2           0  \n",
       "3                          5           1  \n",
       "4                          2           1  "
      ]
     },
     "execution_count": 133,
     "metadata": {},
     "output_type": "execute_result"
    }
   ],
   "source": [
    "df = pd.read_csv('Employee.csv')\n",
    "df.head(5)"
   ]
  },
  {
   "cell_type": "code",
   "execution_count": 134,
   "metadata": {},
   "outputs": [
    {
     "name": "stdout",
     "output_type": "stream",
     "text": [
      "<class 'pandas.core.frame.DataFrame'>\n",
      "RangeIndex: 4653 entries, 0 to 4652\n",
      "Data columns (total 9 columns):\n",
      " #   Column                     Non-Null Count  Dtype \n",
      "---  ------                     --------------  ----- \n",
      " 0   Education                  4653 non-null   object\n",
      " 1   JoiningYear                4653 non-null   int64 \n",
      " 2   City                       4653 non-null   object\n",
      " 3   PaymentTier                4653 non-null   int64 \n",
      " 4   Age                        4653 non-null   int64 \n",
      " 5   Gender                     4653 non-null   object\n",
      " 6   EverBenched                4653 non-null   object\n",
      " 7   ExperienceInCurrentDomain  4653 non-null   int64 \n",
      " 8   LeaveOrNot                 4653 non-null   int64 \n",
      "dtypes: int64(5), object(4)\n",
      "memory usage: 327.3+ KB\n"
     ]
    }
   ],
   "source": [
    "df.info()"
   ]
  },
  {
   "cell_type": "markdown",
   "metadata": {},
   "source": [
    "### **Target : `LeaveOrNot`**"
   ]
  },
  {
   "cell_type": "code",
   "execution_count": 135,
   "metadata": {},
   "outputs": [],
   "source": [
    "x = df.drop(columns = 'LeaveOrNot')\n",
    "y = df['LeaveOrNot']"
   ]
  },
  {
   "cell_type": "markdown",
   "metadata": {},
   "source": [
    "### **Lakukan Feature Selection**"
   ]
  },
  {
   "cell_type": "markdown",
   "metadata": {},
   "source": [
    "* Sebelum dilakukan feature selection, dilakukan uji korelasi baik data numeric ataupun kategori terhadap variabel target (LeaveOrNot)"
   ]
  },
  {
   "cell_type": "code",
   "execution_count": 136,
   "metadata": {},
   "outputs": [],
   "source": [
    "from dython.nominal import associations, cramers_v\n",
    "import matplotlib.pyplot as plt\n",
    "import seaborn as sns"
   ]
  },
  {
   "cell_type": "code",
   "execution_count": 137,
   "metadata": {},
   "outputs": [
    {
     "data": {
      "image/png": "[encoded data removed]",
      "text/plain": [
       "<Figure size 2200x100 with 1 Axes>"
      ]
     },
     "metadata": {},
     "output_type": "display_data"
    }
   ],
   "source": [
    "assoc_cr = []\n",
    "col =  df.columns.tolist()\n",
    "for i in col: \n",
    "    assoc = round(cramers_v(df['LeaveOrNot'], df[i]), 2) \n",
    "    assoc_cr.append(assoc)\n",
    "    \n",
    "df_cr = pd.DataFrame(data = [assoc_cr], columns = col, index=['LeaveOrNot'])\n",
    "\n",
    "plt.figure(figsize=(22, 1))\n",
    "sns.heatmap(df_cr, annot = True, cbar=False)\n",
    "plt.show()"
   ]
  },
  {
   "cell_type": "markdown",
   "metadata": {},
   "source": [
    "* Fitur-fitur yang memiliki korelasi rendah-sedang (0.1-0.5) akan digunakan sebagai fitur untuk modelling disertakan Domain Knowledgenya, diantaranya:\n",
    "\n",
    "`Education` --> Latar pendidikan memiliki hubungan positif yang cukup kecil dengan retensi karyawan. Hal ini karena Karyawan dengan pendidikan tinggi mungkin lebih cenderung mencari peluang lebih baik di tempat lain\n",
    "\n",
    "`JoiningYear` --> Tahun bergabung ke Company juga memiliki hubungan positif yang cukup signifikan dengan retensi karyawan. Semakin baru bergabung, semakin juga cenderung karyawan keluar dari perusahaan. Hal ini karena Karyawan yang telah bekerja lebih lama mungkin memiliki loyalitas lebih tinggi dan Karyawan yang baru bergabung lebih mungkin untuk keluar dari perusahaan (mencari passion dll)\n",
    "\n",
    "`City` --> Hubungan antara kota dimana karyawan ditempatkan dengan retensi karyawan cukup tinggi. Hal ini dikarenakan lokasi tempat bekerja karyawan dapat berpengaruh terhadap keputusan karyawan untuk tetap bertahan atau tidak di perusaahan, misalnya seperti faktor aksesibilitas, biaya hidup, serta lingkungan kerja yang mendukung atau tidak.\n",
    "\n",
    "`PaymentTier` --> Tingkat gaji karyawan memiliki pengaruh terhadap keputusan karyawan bertahan atau tidak di perusahaan. Tingkat gaji yang lebih tinggi dapat meningkatkan kepuasan kerja dan mengurangi kemungkinan karyawan keluar sedangkan Karyawan dengan gaji rendah mungkin mencari pekerjaan yang lebih menguntungkan.\n",
    "\n",
    "`Gender` --> Gender memiliki hubungan yang cukup tinggi dengan retensi karyawan. Meskipun faktor gender tidak secara langsung menentukan apakah seseorang akan keluar atau bertahan, wanita cenderung mungkin mencari peluang di tempat lain yang dapat mempertimbangkan fleksibilitas kerja, keseimbangan antara kehidupan kerja dan keluarga atau memang memutuskan menjadi ibu rumah tangga saja setelah menikah"
   ]
  },
  {
   "cell_type": "code",
   "execution_count": 138,
   "metadata": {},
   "outputs": [],
   "source": [
    "x_selection= df[['City', 'Gender', 'Education', 'PaymentTier', 'JoiningYear']]\n",
    "y = df['LeaveOrNot']"
   ]
  },
  {
   "cell_type": "markdown",
   "metadata": {},
   "source": [
    "### **Lakukan Feature Engineering**"
   ]
  },
  {
   "cell_type": "code",
   "execution_count": 139,
   "metadata": {},
   "outputs": [],
   "source": [
    "ordinal_mapping = [{'col':'Education', 'mapping':{'Bachelors':1, 'Masters':2, 'PhD':3}}]\n",
    "\n",
    "pipe_ordinal_scale = Pipeline([\n",
    "    ('ordinal', OrdinalEncoder(cols=['Education',], mapping=ordinal_mapping))])\n",
    "\n",
    "\n",
    "preprocessor = ColumnTransformer(\n",
    "    transformers = [\n",
    "        ('num', RobustScaler(), x_selection.select_dtypes(include = 'int64').columns),\n",
    "        ('binary_encoder', BinaryEncoder(), ['Gender','City']),\n",
    "        ('pipe_ordinal_scale', pipe_ordinal_scale, ['Education'])\n",
    "    ])\n",
    "\n",
    "x_processed = preprocessor.fit_transform(x_selection)\n",
    "\n",
    "x_processed = pd.DataFrame(x_processed, \n",
    "                           columns = preprocessor.get_feature_names_out())"
   ]
  },
  {
   "cell_type": "code",
   "execution_count": 140,
   "metadata": {},
   "outputs": [
    {
     "data": {
      "text/html": [
       "<div>\n",
       "<style scoped>\n",
       "    .dataframe tbody tr th:only-of-type {\n",
       "        vertical-align: middle;\n",
       "    }\n",
       "\n",
       "    .dataframe tbody tr th {\n",
       "        vertical-align: top;\n",
       "    }\n",
       "\n",
       "    .dataframe thead th {\n",
       "        text-align: right;\n",
       "    }\n",
       "</style>\n",
       "<table border=\"1\" class=\"dataframe\">\n",
       "  <thead>\n",
       "    <tr style=\"text-align: right;\">\n",
       "      <th></th>\n",
       "      <th>num__PaymentTier</th>\n",
       "      <th>num__JoiningYear</th>\n",
       "      <th>binary_encoder__Gender_0</th>\n",
       "      <th>binary_encoder__Gender_1</th>\n",
       "      <th>binary_encoder__City_0</th>\n",
       "      <th>binary_encoder__City_1</th>\n",
       "      <th>pipe_ordinal_scale__Education</th>\n",
       "    </tr>\n",
       "  </thead>\n",
       "  <tbody>\n",
       "    <tr>\n",
       "      <th>0</th>\n",
       "      <td>0.0</td>\n",
       "      <td>0.50</td>\n",
       "      <td>0.0</td>\n",
       "      <td>1.0</td>\n",
       "      <td>0.0</td>\n",
       "      <td>1.0</td>\n",
       "      <td>1.0</td>\n",
       "    </tr>\n",
       "    <tr>\n",
       "      <th>1</th>\n",
       "      <td>-2.0</td>\n",
       "      <td>-0.50</td>\n",
       "      <td>1.0</td>\n",
       "      <td>0.0</td>\n",
       "      <td>1.0</td>\n",
       "      <td>0.0</td>\n",
       "      <td>1.0</td>\n",
       "    </tr>\n",
       "    <tr>\n",
       "      <th>2</th>\n",
       "      <td>0.0</td>\n",
       "      <td>-0.25</td>\n",
       "      <td>1.0</td>\n",
       "      <td>0.0</td>\n",
       "      <td>1.0</td>\n",
       "      <td>1.0</td>\n",
       "      <td>1.0</td>\n",
       "    </tr>\n",
       "    <tr>\n",
       "      <th>3</th>\n",
       "      <td>0.0</td>\n",
       "      <td>0.25</td>\n",
       "      <td>0.0</td>\n",
       "      <td>1.0</td>\n",
       "      <td>0.0</td>\n",
       "      <td>1.0</td>\n",
       "      <td>2.0</td>\n",
       "    </tr>\n",
       "    <tr>\n",
       "      <th>4</th>\n",
       "      <td>0.0</td>\n",
       "      <td>0.50</td>\n",
       "      <td>0.0</td>\n",
       "      <td>1.0</td>\n",
       "      <td>1.0</td>\n",
       "      <td>0.0</td>\n",
       "      <td>2.0</td>\n",
       "    </tr>\n",
       "    <tr>\n",
       "      <th>...</th>\n",
       "      <td>...</td>\n",
       "      <td>...</td>\n",
       "      <td>...</td>\n",
       "      <td>...</td>\n",
       "      <td>...</td>\n",
       "      <td>...</td>\n",
       "      <td>...</td>\n",
       "    </tr>\n",
       "    <tr>\n",
       "      <th>4648</th>\n",
       "      <td>0.0</td>\n",
       "      <td>-0.50</td>\n",
       "      <td>1.0</td>\n",
       "      <td>0.0</td>\n",
       "      <td>0.0</td>\n",
       "      <td>1.0</td>\n",
       "      <td>1.0</td>\n",
       "    </tr>\n",
       "    <tr>\n",
       "      <th>4649</th>\n",
       "      <td>-1.0</td>\n",
       "      <td>-0.50</td>\n",
       "      <td>0.0</td>\n",
       "      <td>1.0</td>\n",
       "      <td>1.0</td>\n",
       "      <td>0.0</td>\n",
       "      <td>2.0</td>\n",
       "    </tr>\n",
       "    <tr>\n",
       "      <th>4650</th>\n",
       "      <td>0.0</td>\n",
       "      <td>0.75</td>\n",
       "      <td>0.0</td>\n",
       "      <td>1.0</td>\n",
       "      <td>1.0</td>\n",
       "      <td>1.0</td>\n",
       "      <td>2.0</td>\n",
       "    </tr>\n",
       "    <tr>\n",
       "      <th>4651</th>\n",
       "      <td>0.0</td>\n",
       "      <td>-0.75</td>\n",
       "      <td>0.0</td>\n",
       "      <td>1.0</td>\n",
       "      <td>0.0</td>\n",
       "      <td>1.0</td>\n",
       "      <td>1.0</td>\n",
       "    </tr>\n",
       "    <tr>\n",
       "      <th>4652</th>\n",
       "      <td>0.0</td>\n",
       "      <td>0.00</td>\n",
       "      <td>0.0</td>\n",
       "      <td>1.0</td>\n",
       "      <td>0.0</td>\n",
       "      <td>1.0</td>\n",
       "      <td>1.0</td>\n",
       "    </tr>\n",
       "  </tbody>\n",
       "</table>\n",
       "<p>4653 rows × 7 columns</p>\n",
       "</div>"
      ],
      "text/plain": [
       "      num__PaymentTier  num__JoiningYear  binary_encoder__Gender_0  \\\n",
       "0                  0.0              0.50                       0.0   \n",
       "1                 -2.0             -0.50                       1.0   \n",
       "2                  0.0             -0.25                       1.0   \n",
       "3                  0.0              0.25                       0.0   \n",
       "4                  0.0              0.50                       0.0   \n",
       "...                ...               ...                       ...   \n",
       "4648               0.0             -0.50                       1.0   \n",
       "4649              -1.0             -0.50                       0.0   \n",
       "4650               0.0              0.75                       0.0   \n",
       "4651               0.0             -0.75                       0.0   \n",
       "4652               0.0              0.00                       0.0   \n",
       "\n",
       "      binary_encoder__Gender_1  binary_encoder__City_0  \\\n",
       "0                          1.0                     0.0   \n",
       "1                          0.0                     1.0   \n",
       "2                          0.0                     1.0   \n",
       "3                          1.0                     0.0   \n",
       "4                          1.0                     1.0   \n",
       "...                        ...                     ...   \n",
       "4648                       0.0                     0.0   \n",
       "4649                       1.0                     1.0   \n",
       "4650                       1.0                     1.0   \n",
       "4651                       1.0                     0.0   \n",
       "4652                       1.0                     0.0   \n",
       "\n",
       "      binary_encoder__City_1  pipe_ordinal_scale__Education  \n",
       "0                        1.0                            1.0  \n",
       "1                        0.0                            1.0  \n",
       "2                        1.0                            1.0  \n",
       "3                        1.0                            2.0  \n",
       "4                        0.0                            2.0  \n",
       "...                      ...                            ...  \n",
       "4648                     1.0                            1.0  \n",
       "4649                     0.0                            2.0  \n",
       "4650                     1.0                            2.0  \n",
       "4651                     1.0                            1.0  \n",
       "4652                     1.0                            1.0  \n",
       "\n",
       "[4653 rows x 7 columns]"
      ]
     },
     "metadata": {},
     "output_type": "display_data"
    }
   ],
   "source": [
    "display(x_processed)"
   ]
  },
  {
   "cell_type": "markdown",
   "metadata": {},
   "source": [
    "### **Split data menjadi Train 80% dan Test 20%**"
   ]
  },
  {
   "cell_type": "code",
   "execution_count": 141,
   "metadata": {},
   "outputs": [],
   "source": [
    "X_train, X_test, y_train, y_test = train_test_split(x_processed, y, train_size = 0.8, random_state = 18)"
   ]
  },
  {
   "cell_type": "markdown",
   "metadata": {},
   "source": [
    "### **Lakukan Modelling menggunakan Logistic Regression**"
   ]
  },
  {
   "cell_type": "code",
   "execution_count": 142,
   "metadata": {},
   "outputs": [],
   "source": [
    "model = LogisticRegression(random_state = 25)\n",
    "\n",
    "model.fit(X_train, y_train)\n",
    "\n",
    "y_pred = model.predict(X_test)"
   ]
  },
  {
   "cell_type": "code",
   "execution_count": 143,
   "metadata": {},
   "outputs": [
    {
     "name": "stdout",
     "output_type": "stream",
     "text": [
      "Accuracy: 0.7379162191192267\n",
      "Confusion Matrix:\n",
      " [[558  42]\n",
      " [202 129]]\n",
      "Classification Report:\n",
      "               precision    recall  f1-score   support\n",
      "\n",
      "           0       0.73      0.93      0.82       600\n",
      "           1       0.75      0.39      0.51       331\n",
      "\n",
      "    accuracy                           0.74       931\n",
      "   macro avg       0.74      0.66      0.67       931\n",
      "weighted avg       0.74      0.74      0.71       931\n",
      "\n"
     ]
    }
   ],
   "source": [
    "accuracy = accuracy_score(y_test, y_pred)\n",
    "conf_matrix = confusion_matrix(y_test, y_pred)\n",
    "class_report = classification_report(y_test, y_pred)\n",
    "\n",
    "print('Accuracy:', accuracy)\n",
    "print('Confusion Matrix:\\n', conf_matrix)\n",
    "print('Classification Report:\\n', class_report)"
   ]
  },
  {
   "cell_type": "markdown",
   "metadata": {},
   "source": [
    "### **Cek Multicollinearity**"
   ]
  },
  {
   "cell_type": "code",
   "execution_count": 144,
   "metadata": {},
   "outputs": [
    {
     "data": {
      "text/html": [
       "<div>\n",
       "<style scoped>\n",
       "    .dataframe tbody tr th:only-of-type {\n",
       "        vertical-align: middle;\n",
       "    }\n",
       "\n",
       "    .dataframe tbody tr th {\n",
       "        vertical-align: top;\n",
       "    }\n",
       "\n",
       "    .dataframe thead th {\n",
       "        text-align: right;\n",
       "    }\n",
       "</style>\n",
       "<table border=\"1\" class=\"dataframe\">\n",
       "  <thead>\n",
       "    <tr style=\"text-align: right;\">\n",
       "      <th></th>\n",
       "      <th>Feature</th>\n",
       "      <th>VIF</th>\n",
       "    </tr>\n",
       "  </thead>\n",
       "  <tbody>\n",
       "    <tr>\n",
       "      <th>0</th>\n",
       "      <td>num__PaymentTier</td>\n",
       "      <td>1.162052</td>\n",
       "    </tr>\n",
       "    <tr>\n",
       "      <th>1</th>\n",
       "      <td>num__JoiningYear</td>\n",
       "      <td>1.039048</td>\n",
       "    </tr>\n",
       "    <tr>\n",
       "      <th>2</th>\n",
       "      <td>binary_encoder__Gender_0</td>\n",
       "      <td>6.223284</td>\n",
       "    </tr>\n",
       "    <tr>\n",
       "      <th>3</th>\n",
       "      <td>binary_encoder__Gender_1</td>\n",
       "      <td>7.663882</td>\n",
       "    </tr>\n",
       "    <tr>\n",
       "      <th>4</th>\n",
       "      <td>binary_encoder__City_0</td>\n",
       "      <td>1.698518</td>\n",
       "    </tr>\n",
       "    <tr>\n",
       "      <th>5</th>\n",
       "      <td>binary_encoder__City_1</td>\n",
       "      <td>1.567782</td>\n",
       "    </tr>\n",
       "    <tr>\n",
       "      <th>6</th>\n",
       "      <td>pipe_ordinal_scale__Education</td>\n",
       "      <td>1.060528</td>\n",
       "    </tr>\n",
       "  </tbody>\n",
       "</table>\n",
       "</div>"
      ],
      "text/plain": [
       "                         Feature       VIF\n",
       "0               num__PaymentTier  1.162052\n",
       "1               num__JoiningYear  1.039048\n",
       "2       binary_encoder__Gender_0  6.223284\n",
       "3       binary_encoder__Gender_1  7.663882\n",
       "4         binary_encoder__City_0  1.698518\n",
       "5         binary_encoder__City_1  1.567782\n",
       "6  pipe_ordinal_scale__Education  1.060528"
      ]
     },
     "execution_count": 144,
     "metadata": {},
     "output_type": "execute_result"
    }
   ],
   "source": [
    "from statsmodels.stats.outliers_influence import variance_inflation_factor\n",
    "\n",
    "vif_data = pd.DataFrame()\n",
    "vif_data[\"Feature\"] = x_processed.columns\n",
    "vif_data[\"VIF\"] = [variance_inflation_factor(x_processed, i) for i in range(x_processed.shape[1])]\n",
    "\n",
    "vif_data"
   ]
  },
  {
   "cell_type": "markdown",
   "metadata": {},
   "source": [
    "### **Buat Interpretasi Hasil Summary**"
   ]
  },
  {
   "cell_type": "markdown",
   "metadata": {},
   "source": [
    "* `Fitur dengan VIF < 5 `→ Aman, tidak ada multikolinearitas yang signifikan.\n",
    "* `Fitur dengan 5 ≤ VIF < 10 `→ Indikasi multikolinearitas sedang (perlu dipertimbangkan untuk perbaikan).\n",
    "* `Fitur dengan VIF ≥ 10 `→ Multikolinearitas tinggi (harus segera diperbaiki)."
   ]
  },
  {
   "cell_type": "markdown",
   "metadata": {},
   "source": [
    "Didapati: \n",
    "\n",
    "`binary_encoder__Gender_0` --> Ada indikasi multikolinearitas sedang.\n",
    "\n",
    "`binary_encoder__Gender_1` --> Ada indikasi multikolinearitas sedang.\n",
    "\n",
    "Memungkinan ada hubungan linier yang kuat antar kedua fitur **akibat redundansi antar variabel Gender**"
   ]
  },
  {
   "cell_type": "markdown",
   "metadata": {},
   "source": [
    "### **Tentukan Features mana yg paling penting**"
   ]
  },
  {
   "cell_type": "code",
   "execution_count": 145,
   "metadata": {},
   "outputs": [
    {
     "data": {
      "text/html": [
       "<div>\n",
       "<style scoped>\n",
       "    .dataframe tbody tr th:only-of-type {\n",
       "        vertical-align: middle;\n",
       "    }\n",
       "\n",
       "    .dataframe tbody tr th {\n",
       "        vertical-align: top;\n",
       "    }\n",
       "\n",
       "    .dataframe thead th {\n",
       "        text-align: right;\n",
       "    }\n",
       "</style>\n",
       "<table border=\"1\" class=\"dataframe\">\n",
       "  <thead>\n",
       "    <tr style=\"text-align: right;\">\n",
       "      <th></th>\n",
       "      <th>Feature</th>\n",
       "      <th>Coefficient</th>\n",
       "    </tr>\n",
       "  </thead>\n",
       "  <tbody>\n",
       "    <tr>\n",
       "      <th>0</th>\n",
       "      <td>binary_encoder__City_1</td>\n",
       "      <td>1.104157</td>\n",
       "    </tr>\n",
       "    <tr>\n",
       "      <th>1</th>\n",
       "      <td>num__JoiningYear</td>\n",
       "      <td>0.875483</td>\n",
       "    </tr>\n",
       "    <tr>\n",
       "      <th>2</th>\n",
       "      <td>binary_encoder__Gender_1</td>\n",
       "      <td>0.559863</td>\n",
       "    </tr>\n",
       "    <tr>\n",
       "      <th>3</th>\n",
       "      <td>pipe_ordinal_scale__Education</td>\n",
       "      <td>0.419090</td>\n",
       "    </tr>\n",
       "    <tr>\n",
       "      <th>4</th>\n",
       "      <td>binary_encoder__Gender_0</td>\n",
       "      <td>0.387388</td>\n",
       "    </tr>\n",
       "    <tr>\n",
       "      <th>5</th>\n",
       "      <td>binary_encoder__City_0</td>\n",
       "      <td>0.325541</td>\n",
       "    </tr>\n",
       "    <tr>\n",
       "      <th>6</th>\n",
       "      <td>num__PaymentTier</td>\n",
       "      <td>0.313244</td>\n",
       "    </tr>\n",
       "  </tbody>\n",
       "</table>\n",
       "</div>"
      ],
      "text/plain": [
       "                         Feature  Coefficient\n",
       "0         binary_encoder__City_1     1.104157\n",
       "1               num__JoiningYear     0.875483\n",
       "2       binary_encoder__Gender_1     0.559863\n",
       "3  pipe_ordinal_scale__Education     0.419090\n",
       "4       binary_encoder__Gender_0     0.387388\n",
       "5         binary_encoder__City_0     0.325541\n",
       "6               num__PaymentTier     0.313244"
      ]
     },
     "metadata": {},
     "output_type": "display_data"
    }
   ],
   "source": [
    "coefficients = model.coef_[0]\n",
    "\n",
    "feature_importance = pd.DataFrame({\n",
    "    'Feature': X_train.columns,\n",
    "    'Coefficient': abs(coefficients)\n",
    "})\n",
    "\n",
    "feature_importance = feature_importance.sort_values(by = 'Coefficient', \n",
    "                                                    ascending = False).reset_index(drop = True)\n",
    "\n",
    "display(feature_importance)"
   ]
  },
  {
   "cell_type": "code",
   "execution_count": 146,
   "metadata": {},
   "outputs": [
    {
     "name": "stdout",
     "output_type": "stream",
     "text": [
      "Berdasarkan koefiesien nya fitur yang paling penting adalah fitur \"binary_encoder__City_1\" dengan nilai koefisien absolut 1.104\n"
     ]
    }
   ],
   "source": [
    "best_feature, best_val = feature_importance.iloc[0].values\n",
    "\n",
    "print(f'Berdasarkan koefiesien nya fitur yang paling penting adalah fitur \"{best_feature}\" dengan nilai koefisien absolut {best_val.round(3)}')"
   ]
  }
 ],
 "metadata": {
  "kernelspec": {
   "display_name": "base",
   "language": "python",
   "name": "python3"
  },
  "language_info": {
   "codemirror_mode": {
    "name": "ipython",
    "version": 3
   },
   "file_extension": ".py",
   "mimetype": "text/x-python",
   "name": "python",
   "nbconvert_exporter": "python",
   "pygments_lexer": "ipython3",
   "version": "3.12.4"
  }
 },
 "nbformat": 4,
 "nbformat_minor": 4
}
