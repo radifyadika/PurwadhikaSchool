{
 "cells": [
  {
   "cell_type": "code",
   "execution_count": null,
   "metadata": {},
   "outputs": [],
   "source": [
    "import pandas as pd\n",
    "import numpy as np"
   ]
  },
  {
   "cell_type": "code",
   "execution_count": null,
   "metadata": {},
   "outputs": [],
   "source": [
    "# NOMOR 1\n",
    "\n",
    "myArray = np.random.randint(1, 101, size=36)\n",
    "print(myArray)"
   ]
  },
  {
   "cell_type": "code",
   "execution_count": null,
   "metadata": {},
   "outputs": [],
   "source": [
    "# NOMOR 2\n",
    "\n",
    "matrix_2x18 = myArray.reshape(2, 18)\n",
    "matrix_9x4 = myArray.reshape(9, 4)\n",
    "array_2x6x3 = myArray.reshape(2, 6, 3)\n",
    "\n",
    "print(\"Matriks berukuran 2x18:\")\n",
    "print(matrix_2x18)\n",
    "print(\"\\nMatriks berukuran 9x4:\")\n",
    "print(matrix_9x4)\n",
    "print(\"\\nArray 3 Dimensi berukuran 2x6x3:\")\n",
    "print(array_2x6x3)"
   ]
  },
  {
   "cell_type": "code",
   "execution_count": null,
   "metadata": {},
   "outputs": [],
   "source": [
    "# NOMOR 3\n",
    "\n",
    "min = myArray.min()\n",
    "min_index = np.argmin(myArray)\n",
    "\n",
    "print(f'Nilai terkecil dari myArray adalah {min} dan indeksnya ke-[{min_index}]\\n')\n",
    "\n",
    "max = myArray.max()\n",
    "max_index = np.argmax(myArray)\n",
    "\n",
    "print(f'Nilai terbesar dari myArray adalah {max} dan indeksnya ke-[{max_index}]')"
   ]
  },
  {
   "cell_type": "code",
   "execution_count": null,
   "metadata": {},
   "outputs": [],
   "source": [
    "# NOMOR 4\n",
    "\n",
    "NewArray = myArray[[3,5,30,12,15,8,24,14,22]]\n",
    "matrix_3x3 = NewArray.reshape(3, 3)\n",
    "\n",
    "print(f'{NewArray}\\n')\n",
    "print(matrix_3x3)"
   ]
  },
  {
   "cell_type": "code",
   "execution_count": null,
   "metadata": {},
   "outputs": [],
   "source": [
    "# NOMOR 5\n",
    "\n",
    "nilai_matriks50 = matrix_3x3[matrix_3x3 > 50]\n",
    "print(nilai_matriks50)"
   ]
  },
  {
   "cell_type": "code",
   "execution_count": null,
   "metadata": {},
   "outputs": [],
   "source": [
    "# NOMOR 6\n",
    "\n",
    "Array = np.linspace(0, 100, 5, dtype=int)\n",
    "Array"
   ]
  },
  {
   "cell_type": "code",
   "execution_count": null,
   "metadata": {},
   "outputs": [],
   "source": [
    "# NOMOR 7\n",
    "\n",
    "n = int(input('N yang diinputkan adalah: '))\n",
    "matrix_n = np.full((n, n), 8)\n",
    "matrix_n"
   ]
  },
  {
   "cell_type": "code",
   "execution_count": null,
   "metadata": {},
   "outputs": [],
   "source": [
    "# NOMOR 8\n",
    "\n",
    "array_A = np.arange(1, 13, dtype=int).reshape(3, 4)\n",
    "\n",
    "array_B = np.linspace(100, 400, 4, dtype=int).reshape(4, 1)\n",
    "array_B1 = array_B.reshape(1, 4)\n",
    " \n",
    "array_C =  np.vstack((array_A,array_B1))\n",
    "\n",
    "print(\"Matriks 3x4 (array_A):\")\n",
    "print(array_A)\n",
    "print(\"\\nArray 4x1 (array_B):\")\n",
    "print(array_B)\n",
    "print(\"\\nMatriks 4x4 (array_C):\")\n",
    "print(array_C)"
   ]
  },
  {
   "cell_type": "code",
   "execution_count": null,
   "metadata": {},
   "outputs": [],
   "source": [
    "# NOMOR 9\n",
    "\n",
    "slice = array_C[1:3 , 2:4]\n",
    "slice"
   ]
  },
  {
   "cell_type": "code",
   "execution_count": null,
   "metadata": {},
   "outputs": [],
   "source": [
    "# NOMOR 10\n",
    "\n",
    "index = array_C[3][1]\n",
    "index"
   ]
  }
 ],
 "metadata": {
  "kernelspec": {
   "display_name": "Python 3",
   "language": "python",
   "name": "python3"
  },
  "language_info": {
   "codemirror_mode": {
    "name": "ipython",
    "version": 3
   },
   "file_extension": ".py",
   "mimetype": "text/x-python",
   "name": "python",
   "nbconvert_exporter": "python",
   "pygments_lexer": "ipython3",
   "version": "3.9.13"
  }
 },
 "nbformat": 4,
 "nbformat_minor": 2
}
