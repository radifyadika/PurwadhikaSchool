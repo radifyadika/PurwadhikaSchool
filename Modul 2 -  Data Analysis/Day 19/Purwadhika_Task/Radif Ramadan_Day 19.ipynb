{
 "cells": [
  {
   "cell_type": "markdown",
   "metadata": {},
   "source": [
    "## **Latihan Pandas 1**\n",
    "\n",
    "## Jangan di-run! Copy dulu file ini, kemudian jawab di file copy tersebut"
   ]
  },
  {
   "cell_type": "markdown",
   "metadata": {},
   "source": [
    "**Membuat DataFrame**\n",
    "\n",
    "Ikuti semua petunjuk yang harus dilakukan di bawah ini."
   ]
  },
  {
   "cell_type": "markdown",
   "metadata": {},
   "source": [
    "**Step 1. Import library yang dibutuhkan.**"
   ]
  },
  {
   "cell_type": "code",
   "execution_count": 5,
   "metadata": {},
   "outputs": [],
   "source": [
    "import numpy as np \n",
    "import pandas as pd "
   ]
  },
  {
   "cell_type": "markdown",
   "metadata": {},
   "source": [
    "**Step 2. Buat dictionary untuk membuat DataFrame berjumlah 5 key dan masing-masing key memiliki value berupa list dengan 10 item.**"
   ]
  },
  {
   "cell_type": "code",
   "execution_count": 6,
   "metadata": {},
   "outputs": [
    {
     "data": {
      "text/html": [
       "<div>\n",
       "<style scoped>\n",
       "    .dataframe tbody tr th:only-of-type {\n",
       "        vertical-align: middle;\n",
       "    }\n",
       "\n",
       "    .dataframe tbody tr th {\n",
       "        vertical-align: top;\n",
       "    }\n",
       "\n",
       "    .dataframe thead th {\n",
       "        text-align: right;\n",
       "    }\n",
       "</style>\n",
       "<table border=\"1\" class=\"dataframe\">\n",
       "  <thead>\n",
       "    <tr style=\"text-align: right;\">\n",
       "      <th></th>\n",
       "      <th>Nama</th>\n",
       "      <th>Umur</th>\n",
       "      <th>Gender</th>\n",
       "      <th>Pekerjaan</th>\n",
       "      <th>Domisili</th>\n",
       "    </tr>\n",
       "  </thead>\n",
       "  <tbody>\n",
       "    <tr>\n",
       "      <th>0</th>\n",
       "      <td>Adele</td>\n",
       "      <td>24</td>\n",
       "      <td>Wanita</td>\n",
       "      <td>Data Analyst</td>\n",
       "      <td>Jakarta</td>\n",
       "    </tr>\n",
       "    <tr>\n",
       "      <th>1</th>\n",
       "      <td>Beyonce</td>\n",
       "      <td>25</td>\n",
       "      <td>Wanita</td>\n",
       "      <td>Data Engineer</td>\n",
       "      <td>Tangerang</td>\n",
       "    </tr>\n",
       "    <tr>\n",
       "      <th>2</th>\n",
       "      <td>Camila</td>\n",
       "      <td>30</td>\n",
       "      <td>Wanita</td>\n",
       "      <td>Data Scientist</td>\n",
       "      <td>Jakarta</td>\n",
       "    </tr>\n",
       "    <tr>\n",
       "      <th>3</th>\n",
       "      <td>Donald</td>\n",
       "      <td>32</td>\n",
       "      <td>Pria</td>\n",
       "      <td>Data Scientist</td>\n",
       "      <td>Bandung</td>\n",
       "    </tr>\n",
       "    <tr>\n",
       "      <th>4</th>\n",
       "      <td>Eminem</td>\n",
       "      <td>28</td>\n",
       "      <td>Pria</td>\n",
       "      <td>Data Analyst</td>\n",
       "      <td>Jakarta</td>\n",
       "    </tr>\n",
       "    <tr>\n",
       "      <th>5</th>\n",
       "      <td>Ferguson</td>\n",
       "      <td>24</td>\n",
       "      <td>Pria</td>\n",
       "      <td>Data Engineer</td>\n",
       "      <td>Surabaya</td>\n",
       "    </tr>\n",
       "    <tr>\n",
       "      <th>6</th>\n",
       "      <td>Gaga</td>\n",
       "      <td>29</td>\n",
       "      <td>Wanita</td>\n",
       "      <td>ML Engineer</td>\n",
       "      <td>Bandung</td>\n",
       "    </tr>\n",
       "    <tr>\n",
       "      <th>7</th>\n",
       "      <td>Hillary</td>\n",
       "      <td>31</td>\n",
       "      <td>Wanita</td>\n",
       "      <td>ML Researcher</td>\n",
       "      <td>Yogyakarta</td>\n",
       "    </tr>\n",
       "    <tr>\n",
       "      <th>8</th>\n",
       "      <td>Indro</td>\n",
       "      <td>30</td>\n",
       "      <td>Pria</td>\n",
       "      <td>BI Analyst</td>\n",
       "      <td>Jakarta</td>\n",
       "    </tr>\n",
       "    <tr>\n",
       "      <th>9</th>\n",
       "      <td>Joko</td>\n",
       "      <td>29</td>\n",
       "      <td>Pria</td>\n",
       "      <td>Data Analyst</td>\n",
       "      <td>Tanggerang</td>\n",
       "    </tr>\n",
       "  </tbody>\n",
       "</table>\n",
       "</div>"
      ],
      "text/plain": [
       "       Nama  Umur  Gender       Pekerjaan    Domisili\n",
       "0     Adele    24  Wanita    Data Analyst     Jakarta\n",
       "1   Beyonce    25  Wanita   Data Engineer   Tangerang\n",
       "2    Camila    30  Wanita  Data Scientist     Jakarta\n",
       "3    Donald    32    Pria  Data Scientist     Bandung\n",
       "4    Eminem    28    Pria    Data Analyst     Jakarta\n",
       "5  Ferguson    24    Pria   Data Engineer    Surabaya\n",
       "6      Gaga    29  Wanita     ML Engineer     Bandung\n",
       "7   Hillary    31  Wanita   ML Researcher  Yogyakarta\n",
       "8     Indro    30    Pria      BI Analyst     Jakarta\n",
       "9      Joko    29    Pria    Data Analyst  Tanggerang"
      ]
     },
     "execution_count": 6,
     "metadata": {},
     "output_type": "execute_result"
    }
   ],
   "source": [
    "data = {'Nama' : ['Adele','Beyonce','Camila','Donald','Eminem','Ferguson','Gaga','Hillary','Indro','Joko'], \n",
    "      'Umur' : [24, 25, 30,32,28,24,29,31,30,29], \n",
    "      'Gender' : ['Wanita','Wanita','Wanita','Pria','Pria','Pria','Wanita','Wanita','Pria','Pria'], \n",
    "      'Pekerjaan':['Data Analyst','Data Engineer','Data Scientist','Data Scientist','Data Analyst','Data Engineer','ML Engineer','ML Researcher','BI Analyst','Data Analyst'], \n",
    "      'Domisili': ['Jakarta','Tangerang','Jakarta','Bandung','Jakarta','Surabaya','Bandung','Yogyakarta','Jakarta','Tanggerang']\n",
    "    }\n",
    "\n",
    "df = pd.DataFrame(data)\n",
    "df"
   ]
  },
  {
   "cell_type": "markdown",
   "metadata": {},
   "source": [
    "**Step 3. Ubah urutan kolom tersebut menjadi seperti berikut: Nama, Gender, Umur, Domisili, Pekerjaan.**\n",
    "\n"
   ]
  },
  {
   "cell_type": "code",
   "execution_count": 3,
   "metadata": {},
   "outputs": [
    {
     "data": {
      "text/html": [
       "<div>\n",
       "<style scoped>\n",
       "    .dataframe tbody tr th:only-of-type {\n",
       "        vertical-align: middle;\n",
       "    }\n",
       "\n",
       "    .dataframe tbody tr th {\n",
       "        vertical-align: top;\n",
       "    }\n",
       "\n",
       "    .dataframe thead th {\n",
       "        text-align: right;\n",
       "    }\n",
       "</style>\n",
       "<table border=\"1\" class=\"dataframe\">\n",
       "  <thead>\n",
       "    <tr style=\"text-align: right;\">\n",
       "      <th></th>\n",
       "      <th>Nama</th>\n",
       "      <th>Gender</th>\n",
       "      <th>Umur</th>\n",
       "      <th>Domisili</th>\n",
       "      <th>Pekerjaan</th>\n",
       "    </tr>\n",
       "  </thead>\n",
       "  <tbody>\n",
       "    <tr>\n",
       "      <th>0</th>\n",
       "      <td>Adele</td>\n",
       "      <td>Wanita</td>\n",
       "      <td>24</td>\n",
       "      <td>Jakarta</td>\n",
       "      <td>Data Analyst</td>\n",
       "    </tr>\n",
       "    <tr>\n",
       "      <th>1</th>\n",
       "      <td>Beyonce</td>\n",
       "      <td>Wanita</td>\n",
       "      <td>25</td>\n",
       "      <td>Tangerang</td>\n",
       "      <td>Data Engineer</td>\n",
       "    </tr>\n",
       "    <tr>\n",
       "      <th>2</th>\n",
       "      <td>Camila</td>\n",
       "      <td>Wanita</td>\n",
       "      <td>30</td>\n",
       "      <td>Jakarta</td>\n",
       "      <td>Data Scientist</td>\n",
       "    </tr>\n",
       "    <tr>\n",
       "      <th>3</th>\n",
       "      <td>Donald</td>\n",
       "      <td>Pria</td>\n",
       "      <td>32</td>\n",
       "      <td>Bandung</td>\n",
       "      <td>Data Scientist</td>\n",
       "    </tr>\n",
       "    <tr>\n",
       "      <th>4</th>\n",
       "      <td>Eminem</td>\n",
       "      <td>Pria</td>\n",
       "      <td>28</td>\n",
       "      <td>Jakarta</td>\n",
       "      <td>Data Analyst</td>\n",
       "    </tr>\n",
       "    <tr>\n",
       "      <th>5</th>\n",
       "      <td>Ferguson</td>\n",
       "      <td>Pria</td>\n",
       "      <td>24</td>\n",
       "      <td>Surabaya</td>\n",
       "      <td>Data Engineer</td>\n",
       "    </tr>\n",
       "    <tr>\n",
       "      <th>6</th>\n",
       "      <td>Gaga</td>\n",
       "      <td>Wanita</td>\n",
       "      <td>29</td>\n",
       "      <td>Bandung</td>\n",
       "      <td>ML Engineer</td>\n",
       "    </tr>\n",
       "    <tr>\n",
       "      <th>7</th>\n",
       "      <td>Hillary</td>\n",
       "      <td>Wanita</td>\n",
       "      <td>31</td>\n",
       "      <td>Yogyakarta</td>\n",
       "      <td>ML Researcher</td>\n",
       "    </tr>\n",
       "    <tr>\n",
       "      <th>8</th>\n",
       "      <td>Indro</td>\n",
       "      <td>Pria</td>\n",
       "      <td>30</td>\n",
       "      <td>Jakarta</td>\n",
       "      <td>BI Analyst</td>\n",
       "    </tr>\n",
       "    <tr>\n",
       "      <th>9</th>\n",
       "      <td>Joko</td>\n",
       "      <td>Pria</td>\n",
       "      <td>29</td>\n",
       "      <td>Tangerang</td>\n",
       "      <td>Data Analyst</td>\n",
       "    </tr>\n",
       "  </tbody>\n",
       "</table>\n",
       "</div>"
      ],
      "text/plain": [
       "       Nama  Gender  Umur    Domisili       Pekerjaan\n",
       "0     Adele  Wanita    24     Jakarta    Data Analyst\n",
       "1   Beyonce  Wanita    25   Tangerang   Data Engineer\n",
       "2    Camila  Wanita    30     Jakarta  Data Scientist\n",
       "3    Donald    Pria    32     Bandung  Data Scientist\n",
       "4    Eminem    Pria    28     Jakarta    Data Analyst\n",
       "5  Ferguson    Pria    24    Surabaya   Data Engineer\n",
       "6      Gaga  Wanita    29     Bandung     ML Engineer\n",
       "7   Hillary  Wanita    31  Yogyakarta   ML Researcher\n",
       "8     Indro    Pria    30     Jakarta      BI Analyst\n",
       "9      Joko    Pria    29   Tangerang    Data Analyst"
      ]
     },
     "execution_count": 3,
     "metadata": {},
     "output_type": "execute_result"
    }
   ],
   "source": [
    "df_new = df[['Nama','Gender','Umur','Domisili','Pekerjaan']]\n",
    "df_new"
   ]
  },
  {
   "cell_type": "markdown",
   "metadata": {},
   "source": [
    "**Step 4. Tambahkan 1 kolom baru bernama 'Hobi' dan isikan datanya seperti output berikut.**"
   ]
  },
  {
   "cell_type": "code",
   "execution_count": 7,
   "metadata": {},
   "outputs": [
    {
     "data": {
      "text/html": [
       "<div>\n",
       "<style scoped>\n",
       "    .dataframe tbody tr th:only-of-type {\n",
       "        vertical-align: middle;\n",
       "    }\n",
       "\n",
       "    .dataframe tbody tr th {\n",
       "        vertical-align: top;\n",
       "    }\n",
       "\n",
       "    .dataframe thead th {\n",
       "        text-align: right;\n",
       "    }\n",
       "</style>\n",
       "<table border=\"1\" class=\"dataframe\">\n",
       "  <thead>\n",
       "    <tr style=\"text-align: right;\">\n",
       "      <th></th>\n",
       "      <th>Nama</th>\n",
       "      <th>Umur</th>\n",
       "      <th>Gender</th>\n",
       "      <th>Pekerjaan</th>\n",
       "      <th>Domisili</th>\n",
       "      <th>Hoby</th>\n",
       "    </tr>\n",
       "  </thead>\n",
       "  <tbody>\n",
       "    <tr>\n",
       "      <th>0</th>\n",
       "      <td>Adele</td>\n",
       "      <td>24</td>\n",
       "      <td>Wanita</td>\n",
       "      <td>Data Analyst</td>\n",
       "      <td>Jakarta</td>\n",
       "      <td>Gaming</td>\n",
       "    </tr>\n",
       "    <tr>\n",
       "      <th>1</th>\n",
       "      <td>Beyonce</td>\n",
       "      <td>25</td>\n",
       "      <td>Wanita</td>\n",
       "      <td>Data Engineer</td>\n",
       "      <td>Tangerang</td>\n",
       "      <td>Masak</td>\n",
       "    </tr>\n",
       "    <tr>\n",
       "      <th>2</th>\n",
       "      <td>Camila</td>\n",
       "      <td>30</td>\n",
       "      <td>Wanita</td>\n",
       "      <td>Data Scientist</td>\n",
       "      <td>Jakarta</td>\n",
       "      <td>Baca</td>\n",
       "    </tr>\n",
       "    <tr>\n",
       "      <th>3</th>\n",
       "      <td>Donald</td>\n",
       "      <td>32</td>\n",
       "      <td>Pria</td>\n",
       "      <td>Data Scientist</td>\n",
       "      <td>Bandung</td>\n",
       "      <td>Gaming</td>\n",
       "    </tr>\n",
       "    <tr>\n",
       "      <th>4</th>\n",
       "      <td>Eminem</td>\n",
       "      <td>28</td>\n",
       "      <td>Pria</td>\n",
       "      <td>Data Analyst</td>\n",
       "      <td>Jakarta</td>\n",
       "      <td>Futsal</td>\n",
       "    </tr>\n",
       "    <tr>\n",
       "      <th>5</th>\n",
       "      <td>Ferguson</td>\n",
       "      <td>24</td>\n",
       "      <td>Pria</td>\n",
       "      <td>Data Engineer</td>\n",
       "      <td>Surabaya</td>\n",
       "      <td>Traveling</td>\n",
       "    </tr>\n",
       "    <tr>\n",
       "      <th>6</th>\n",
       "      <td>Gaga</td>\n",
       "      <td>29</td>\n",
       "      <td>Wanita</td>\n",
       "      <td>ML Engineer</td>\n",
       "      <td>Bandung</td>\n",
       "      <td>Basket</td>\n",
       "    </tr>\n",
       "    <tr>\n",
       "      <th>7</th>\n",
       "      <td>Hillary</td>\n",
       "      <td>31</td>\n",
       "      <td>Wanita</td>\n",
       "      <td>ML Researcher</td>\n",
       "      <td>Yogyakarta</td>\n",
       "      <td>Traveling</td>\n",
       "    </tr>\n",
       "    <tr>\n",
       "      <th>8</th>\n",
       "      <td>Indro</td>\n",
       "      <td>30</td>\n",
       "      <td>Pria</td>\n",
       "      <td>BI Analyst</td>\n",
       "      <td>Jakarta</td>\n",
       "      <td>Gaming</td>\n",
       "    </tr>\n",
       "    <tr>\n",
       "      <th>9</th>\n",
       "      <td>Joko</td>\n",
       "      <td>29</td>\n",
       "      <td>Pria</td>\n",
       "      <td>Data Analyst</td>\n",
       "      <td>Tanggerang</td>\n",
       "      <td>Futsal</td>\n",
       "    </tr>\n",
       "  </tbody>\n",
       "</table>\n",
       "</div>"
      ],
      "text/plain": [
       "       Nama  Umur  Gender       Pekerjaan    Domisili       Hoby\n",
       "0     Adele    24  Wanita    Data Analyst     Jakarta     Gaming\n",
       "1   Beyonce    25  Wanita   Data Engineer   Tangerang      Masak\n",
       "2    Camila    30  Wanita  Data Scientist     Jakarta       Baca\n",
       "3    Donald    32    Pria  Data Scientist     Bandung     Gaming\n",
       "4    Eminem    28    Pria    Data Analyst     Jakarta     Futsal\n",
       "5  Ferguson    24    Pria   Data Engineer    Surabaya  Traveling\n",
       "6      Gaga    29  Wanita     ML Engineer     Bandung     Basket\n",
       "7   Hillary    31  Wanita   ML Researcher  Yogyakarta  Traveling\n",
       "8     Indro    30    Pria      BI Analyst     Jakarta     Gaming\n",
       "9      Joko    29    Pria    Data Analyst  Tanggerang     Futsal"
      ]
     },
     "execution_count": 7,
     "metadata": {},
     "output_type": "execute_result"
    }
   ],
   "source": [
    "df.insert(5,'Hoby', ['Gaming','Masak','Baca','Gaming','Futsal','Traveling','Basket','Traveling','Gaming','Futsal'])\n",
    "df"
   ]
  },
  {
   "cell_type": "markdown",
   "metadata": {},
   "source": [
    "**Soal Lanjutan**"
   ]
  },
  {
   "cell_type": "markdown",
   "metadata": {},
   "source": [
    "**5. Gunakan .iloc untuk mengambil data Donald, Ferguson, Hillary**"
   ]
  },
  {
   "cell_type": "code",
   "execution_count": 7,
   "metadata": {},
   "outputs": [
    {
     "data": {
      "text/html": [
       "<div>\n",
       "<style scoped>\n",
       "    .dataframe tbody tr th:only-of-type {\n",
       "        vertical-align: middle;\n",
       "    }\n",
       "\n",
       "    .dataframe tbody tr th {\n",
       "        vertical-align: top;\n",
       "    }\n",
       "\n",
       "    .dataframe thead th {\n",
       "        text-align: right;\n",
       "    }\n",
       "</style>\n",
       "<table border=\"1\" class=\"dataframe\">\n",
       "  <thead>\n",
       "    <tr style=\"text-align: right;\">\n",
       "      <th></th>\n",
       "      <th>Nama</th>\n",
       "      <th>Umur</th>\n",
       "      <th>Gender</th>\n",
       "      <th>Pekerjaan</th>\n",
       "      <th>Domisili</th>\n",
       "      <th>Hoby</th>\n",
       "    </tr>\n",
       "  </thead>\n",
       "  <tbody>\n",
       "    <tr>\n",
       "      <th>3</th>\n",
       "      <td>Donald</td>\n",
       "      <td>32</td>\n",
       "      <td>Pria</td>\n",
       "      <td>Data Scientist</td>\n",
       "      <td>Bandung</td>\n",
       "      <td>Gaming</td>\n",
       "    </tr>\n",
       "    <tr>\n",
       "      <th>5</th>\n",
       "      <td>Ferguson</td>\n",
       "      <td>24</td>\n",
       "      <td>Pria</td>\n",
       "      <td>Data Engineer</td>\n",
       "      <td>Surabaya</td>\n",
       "      <td>Traveling</td>\n",
       "    </tr>\n",
       "    <tr>\n",
       "      <th>7</th>\n",
       "      <td>Hillary</td>\n",
       "      <td>31</td>\n",
       "      <td>Wanita</td>\n",
       "      <td>ML Researcher</td>\n",
       "      <td>Yogyakarta</td>\n",
       "      <td>Traveling</td>\n",
       "    </tr>\n",
       "  </tbody>\n",
       "</table>\n",
       "</div>"
      ],
      "text/plain": [
       "       Nama  Umur  Gender       Pekerjaan    Domisili       Hoby\n",
       "3    Donald    32    Pria  Data Scientist     Bandung     Gaming\n",
       "5  Ferguson    24    Pria   Data Engineer    Surabaya  Traveling\n",
       "7   Hillary    31  Wanita   ML Researcher  Yogyakarta  Traveling"
      ]
     },
     "execution_count": 7,
     "metadata": {},
     "output_type": "execute_result"
    }
   ],
   "source": [
    "df.iloc[3:8:2]"
   ]
  },
  {
   "cell_type": "markdown",
   "metadata": {},
   "source": [
    "**6. Gunakan .loc untuk menampilkan domisili dan pekerjaan dari Camila dan Indro (termasuk kolom nama)**\n"
   ]
  },
  {
   "cell_type": "code",
   "execution_count": 11,
   "metadata": {},
   "outputs": [
    {
     "data": {
      "text/html": [
       "<div>\n",
       "<style scoped>\n",
       "    .dataframe tbody tr th:only-of-type {\n",
       "        vertical-align: middle;\n",
       "    }\n",
       "\n",
       "    .dataframe tbody tr th {\n",
       "        vertical-align: top;\n",
       "    }\n",
       "\n",
       "    .dataframe thead th {\n",
       "        text-align: right;\n",
       "    }\n",
       "</style>\n",
       "<table border=\"1\" class=\"dataframe\">\n",
       "  <thead>\n",
       "    <tr style=\"text-align: right;\">\n",
       "      <th></th>\n",
       "      <th>Nama</th>\n",
       "      <th>Domisili</th>\n",
       "      <th>Pekerjaan</th>\n",
       "    </tr>\n",
       "  </thead>\n",
       "  <tbody>\n",
       "    <tr>\n",
       "      <th>2</th>\n",
       "      <td>Camila</td>\n",
       "      <td>Jakarta</td>\n",
       "      <td>Data Scientist</td>\n",
       "    </tr>\n",
       "    <tr>\n",
       "      <th>8</th>\n",
       "      <td>Indro</td>\n",
       "      <td>Jakarta</td>\n",
       "      <td>BI Analyst</td>\n",
       "    </tr>\n",
       "  </tbody>\n",
       "</table>\n",
       "</div>"
      ],
      "text/plain": [
       "     Nama Domisili       Pekerjaan\n",
       "2  Camila  Jakarta  Data Scientist\n",
       "8   Indro  Jakarta      BI Analyst"
      ]
     },
     "execution_count": 11,
     "metadata": {},
     "output_type": "execute_result"
    }
   ],
   "source": [
    "df.loc[[2,8], ['Nama','Domisili','Pekerjaan']]"
   ]
  },
  {
   "cell_type": "markdown",
   "metadata": {},
   "source": [
    "**7. Gunakan .iloc untuk menampilkan semua data dari Hillary dan Joko**"
   ]
  },
  {
   "cell_type": "code",
   "execution_count": 13,
   "metadata": {},
   "outputs": [
    {
     "data": {
      "text/html": [
       "<div>\n",
       "<style scoped>\n",
       "    .dataframe tbody tr th:only-of-type {\n",
       "        vertical-align: middle;\n",
       "    }\n",
       "\n",
       "    .dataframe tbody tr th {\n",
       "        vertical-align: top;\n",
       "    }\n",
       "\n",
       "    .dataframe thead th {\n",
       "        text-align: right;\n",
       "    }\n",
       "</style>\n",
       "<table border=\"1\" class=\"dataframe\">\n",
       "  <thead>\n",
       "    <tr style=\"text-align: right;\">\n",
       "      <th></th>\n",
       "      <th>Nama</th>\n",
       "      <th>Umur</th>\n",
       "      <th>Gender</th>\n",
       "      <th>Pekerjaan</th>\n",
       "      <th>Domisili</th>\n",
       "      <th>Hoby</th>\n",
       "    </tr>\n",
       "  </thead>\n",
       "  <tbody>\n",
       "    <tr>\n",
       "      <th>7</th>\n",
       "      <td>Hillary</td>\n",
       "      <td>31</td>\n",
       "      <td>Wanita</td>\n",
       "      <td>ML Researcher</td>\n",
       "      <td>Yogyakarta</td>\n",
       "      <td>Traveling</td>\n",
       "    </tr>\n",
       "    <tr>\n",
       "      <th>9</th>\n",
       "      <td>Joko</td>\n",
       "      <td>29</td>\n",
       "      <td>Pria</td>\n",
       "      <td>Data Analyst</td>\n",
       "      <td>Tangerang</td>\n",
       "      <td>Futsal</td>\n",
       "    </tr>\n",
       "  </tbody>\n",
       "</table>\n",
       "</div>"
      ],
      "text/plain": [
       "      Nama  Umur  Gender      Pekerjaan    Domisili       Hoby\n",
       "7  Hillary    31  Wanita  ML Researcher  Yogyakarta  Traveling\n",
       "9     Joko    29    Pria   Data Analyst   Tangerang     Futsal"
      ]
     },
     "execution_count": 13,
     "metadata": {},
     "output_type": "execute_result"
    }
   ],
   "source": [
    "df.iloc[7:10:2]"
   ]
  },
  {
   "cell_type": "markdown",
   "metadata": {},
   "source": [
    "**8. Siapa sajakah yang berumur lebih dari 30 tahun?**"
   ]
  },
  {
   "cell_type": "code",
   "execution_count": 14,
   "metadata": {},
   "outputs": [
    {
     "data": {
      "text/html": [
       "<div>\n",
       "<style scoped>\n",
       "    .dataframe tbody tr th:only-of-type {\n",
       "        vertical-align: middle;\n",
       "    }\n",
       "\n",
       "    .dataframe tbody tr th {\n",
       "        vertical-align: top;\n",
       "    }\n",
       "\n",
       "    .dataframe thead th {\n",
       "        text-align: right;\n",
       "    }\n",
       "</style>\n",
       "<table border=\"1\" class=\"dataframe\">\n",
       "  <thead>\n",
       "    <tr style=\"text-align: right;\">\n",
       "      <th></th>\n",
       "      <th>Nama</th>\n",
       "      <th>Umur</th>\n",
       "      <th>Gender</th>\n",
       "      <th>Pekerjaan</th>\n",
       "      <th>Domisili</th>\n",
       "      <th>Hoby</th>\n",
       "    </tr>\n",
       "  </thead>\n",
       "  <tbody>\n",
       "    <tr>\n",
       "      <th>3</th>\n",
       "      <td>Donald</td>\n",
       "      <td>32</td>\n",
       "      <td>Pria</td>\n",
       "      <td>Data Scientist</td>\n",
       "      <td>Bandung</td>\n",
       "      <td>Gaming</td>\n",
       "    </tr>\n",
       "    <tr>\n",
       "      <th>7</th>\n",
       "      <td>Hillary</td>\n",
       "      <td>31</td>\n",
       "      <td>Wanita</td>\n",
       "      <td>ML Researcher</td>\n",
       "      <td>Yogyakarta</td>\n",
       "      <td>Traveling</td>\n",
       "    </tr>\n",
       "  </tbody>\n",
       "</table>\n",
       "</div>"
      ],
      "text/plain": [
       "      Nama  Umur  Gender       Pekerjaan    Domisili       Hoby\n",
       "3   Donald    32    Pria  Data Scientist     Bandung     Gaming\n",
       "7  Hillary    31  Wanita   ML Researcher  Yogyakarta  Traveling"
      ]
     },
     "execution_count": 14,
     "metadata": {},
     "output_type": "execute_result"
    }
   ],
   "source": [
    "df.loc[df['Umur'] > 30]"
   ]
  },
  {
   "cell_type": "markdown",
   "metadata": {},
   "source": [
    "**9. Siapa sajakah yang berumur kurang dari 30 tahun dan hobinya Gaming?**"
   ]
  },
  {
   "cell_type": "code",
   "execution_count": 18,
   "metadata": {},
   "outputs": [
    {
     "data": {
      "text/html": [
       "<div>\n",
       "<style scoped>\n",
       "    .dataframe tbody tr th:only-of-type {\n",
       "        vertical-align: middle;\n",
       "    }\n",
       "\n",
       "    .dataframe tbody tr th {\n",
       "        vertical-align: top;\n",
       "    }\n",
       "\n",
       "    .dataframe thead th {\n",
       "        text-align: right;\n",
       "    }\n",
       "</style>\n",
       "<table border=\"1\" class=\"dataframe\">\n",
       "  <thead>\n",
       "    <tr style=\"text-align: right;\">\n",
       "      <th></th>\n",
       "      <th>Nama</th>\n",
       "      <th>Umur</th>\n",
       "      <th>Gender</th>\n",
       "      <th>Pekerjaan</th>\n",
       "      <th>Domisili</th>\n",
       "      <th>Hoby</th>\n",
       "    </tr>\n",
       "  </thead>\n",
       "  <tbody>\n",
       "    <tr>\n",
       "      <th>0</th>\n",
       "      <td>Adele</td>\n",
       "      <td>24</td>\n",
       "      <td>Wanita</td>\n",
       "      <td>Data Analyst</td>\n",
       "      <td>Jakarta</td>\n",
       "      <td>Gaming</td>\n",
       "    </tr>\n",
       "  </tbody>\n",
       "</table>\n",
       "</div>"
      ],
      "text/plain": [
       "    Nama  Umur  Gender     Pekerjaan Domisili    Hoby\n",
       "0  Adele    24  Wanita  Data Analyst  Jakarta  Gaming"
      ]
     },
     "execution_count": 18,
     "metadata": {},
     "output_type": "execute_result"
    }
   ],
   "source": [
    "df.loc[(df['Umur'] < 30) & (df['Hoby'] == 'Gaming')]"
   ]
  },
  {
   "cell_type": "markdown",
   "metadata": {},
   "source": [
    "**10. Tampilkan nama orang yang pekerjaannya adalah Data Analyst! Tampilkan kolom nama saja dalam bentuk Series!**"
   ]
  },
  {
   "cell_type": "code",
   "execution_count": 8,
   "metadata": {},
   "outputs": [
    {
     "data": {
      "text/html": [
       "<div>\n",
       "<style scoped>\n",
       "    .dataframe tbody tr th:only-of-type {\n",
       "        vertical-align: middle;\n",
       "    }\n",
       "\n",
       "    .dataframe tbody tr th {\n",
       "        vertical-align: top;\n",
       "    }\n",
       "\n",
       "    .dataframe thead th {\n",
       "        text-align: right;\n",
       "    }\n",
       "</style>\n",
       "<table border=\"1\" class=\"dataframe\">\n",
       "  <thead>\n",
       "    <tr style=\"text-align: right;\">\n",
       "      <th></th>\n",
       "      <th>Nama</th>\n",
       "      <th>Pekerjaan</th>\n",
       "    </tr>\n",
       "  </thead>\n",
       "  <tbody>\n",
       "    <tr>\n",
       "      <th>0</th>\n",
       "      <td>Adele</td>\n",
       "      <td>Data Analyst</td>\n",
       "    </tr>\n",
       "    <tr>\n",
       "      <th>2</th>\n",
       "      <td>Camila</td>\n",
       "      <td>Data Scientist</td>\n",
       "    </tr>\n",
       "    <tr>\n",
       "      <th>4</th>\n",
       "      <td>Eminem</td>\n",
       "      <td>Data Analyst</td>\n",
       "    </tr>\n",
       "    <tr>\n",
       "      <th>8</th>\n",
       "      <td>Indro</td>\n",
       "      <td>BI Analyst</td>\n",
       "    </tr>\n",
       "  </tbody>\n",
       "</table>\n",
       "</div>"
      ],
      "text/plain": [
       "     Nama       Pekerjaan\n",
       "0   Adele    Data Analyst\n",
       "2  Camila  Data Scientist\n",
       "4  Eminem    Data Analyst\n",
       "8   Indro      BI Analyst"
      ]
     },
     "execution_count": 8,
     "metadata": {},
     "output_type": "execute_result"
    }
   ],
   "source": [
    "df[df['Domisili'] == 'Jakarta'][['Nama','Pekerjaan']]"
   ]
  },
  {
   "cell_type": "markdown",
   "metadata": {},
   "source": [
    "**11. Apa saja pekerjaan orang-orang yang berdomisili di Jakarta? Tampilkan nama dan pekerjaannya!**"
   ]
  },
  {
   "cell_type": "code",
   "execution_count": 9,
   "metadata": {},
   "outputs": [
    {
     "data": {
      "text/html": [
       "<div>\n",
       "<style scoped>\n",
       "    .dataframe tbody tr th:only-of-type {\n",
       "        vertical-align: middle;\n",
       "    }\n",
       "\n",
       "    .dataframe tbody tr th {\n",
       "        vertical-align: top;\n",
       "    }\n",
       "\n",
       "    .dataframe thead th {\n",
       "        text-align: right;\n",
       "    }\n",
       "</style>\n",
       "<table border=\"1\" class=\"dataframe\">\n",
       "  <thead>\n",
       "    <tr style=\"text-align: right;\">\n",
       "      <th></th>\n",
       "      <th>Nama</th>\n",
       "      <th>Pekerjaan</th>\n",
       "    </tr>\n",
       "  </thead>\n",
       "  <tbody>\n",
       "    <tr>\n",
       "      <th>0</th>\n",
       "      <td>Adele</td>\n",
       "      <td>Data Analyst</td>\n",
       "    </tr>\n",
       "    <tr>\n",
       "      <th>2</th>\n",
       "      <td>Camila</td>\n",
       "      <td>Data Scientist</td>\n",
       "    </tr>\n",
       "    <tr>\n",
       "      <th>4</th>\n",
       "      <td>Eminem</td>\n",
       "      <td>Data Analyst</td>\n",
       "    </tr>\n",
       "    <tr>\n",
       "      <th>8</th>\n",
       "      <td>Indro</td>\n",
       "      <td>BI Analyst</td>\n",
       "    </tr>\n",
       "  </tbody>\n",
       "</table>\n",
       "</div>"
      ],
      "text/plain": [
       "     Nama       Pekerjaan\n",
       "0   Adele    Data Analyst\n",
       "2  Camila  Data Scientist\n",
       "4  Eminem    Data Analyst\n",
       "8   Indro      BI Analyst"
      ]
     },
     "execution_count": 9,
     "metadata": {},
     "output_type": "execute_result"
    }
   ],
   "source": [
    "df[df['Domisili'] == 'Jakarta'][['Nama','Pekerjaan']]"
   ]
  },
  {
   "cell_type": "markdown",
   "metadata": {},
   "source": [
    "**12. Apa saja hobi para wanita yang ada di dataset? Tampilkan hanya kolom Nama, Hobi, Umur secara berurutan!**"
   ]
  },
  {
   "cell_type": "code",
   "execution_count": 26,
   "metadata": {},
   "outputs": [
    {
     "data": {
      "text/html": [
       "<div>\n",
       "<style scoped>\n",
       "    .dataframe tbody tr th:only-of-type {\n",
       "        vertical-align: middle;\n",
       "    }\n",
       "\n",
       "    .dataframe tbody tr th {\n",
       "        vertical-align: top;\n",
       "    }\n",
       "\n",
       "    .dataframe thead th {\n",
       "        text-align: right;\n",
       "    }\n",
       "</style>\n",
       "<table border=\"1\" class=\"dataframe\">\n",
       "  <thead>\n",
       "    <tr style=\"text-align: right;\">\n",
       "      <th></th>\n",
       "      <th>Nama</th>\n",
       "      <th>Hoby</th>\n",
       "      <th>Umur</th>\n",
       "    </tr>\n",
       "  </thead>\n",
       "  <tbody>\n",
       "    <tr>\n",
       "      <th>0</th>\n",
       "      <td>Adele</td>\n",
       "      <td>Gaming</td>\n",
       "      <td>24</td>\n",
       "    </tr>\n",
       "    <tr>\n",
       "      <th>1</th>\n",
       "      <td>Beyonce</td>\n",
       "      <td>Masak</td>\n",
       "      <td>25</td>\n",
       "    </tr>\n",
       "    <tr>\n",
       "      <th>2</th>\n",
       "      <td>Camila</td>\n",
       "      <td>Baca</td>\n",
       "      <td>30</td>\n",
       "    </tr>\n",
       "    <tr>\n",
       "      <th>6</th>\n",
       "      <td>Gaga</td>\n",
       "      <td>Basket</td>\n",
       "      <td>29</td>\n",
       "    </tr>\n",
       "    <tr>\n",
       "      <th>7</th>\n",
       "      <td>Hillary</td>\n",
       "      <td>Traveling</td>\n",
       "      <td>31</td>\n",
       "    </tr>\n",
       "  </tbody>\n",
       "</table>\n",
       "</div>"
      ],
      "text/plain": [
       "      Nama       Hoby  Umur\n",
       "0    Adele     Gaming    24\n",
       "1  Beyonce      Masak    25\n",
       "2   Camila       Baca    30\n",
       "6     Gaga     Basket    29\n",
       "7  Hillary  Traveling    31"
      ]
     },
     "execution_count": 26,
     "metadata": {},
     "output_type": "execute_result"
    }
   ],
   "source": [
    "df[df['Gender'] == 'Wanita'][['Nama','Hoby','Umur']]"
   ]
  },
  {
   "cell_type": "markdown",
   "metadata": {},
   "source": [
    "**13. Siapa saja yang berumur lebih tua dari Eminem? Tampilkan kolom nama dan umur!**"
   ]
  },
  {
   "cell_type": "code",
   "execution_count": 29,
   "metadata": {},
   "outputs": [
    {
     "data": {
      "text/html": [
       "<div>\n",
       "<style scoped>\n",
       "    .dataframe tbody tr th:only-of-type {\n",
       "        vertical-align: middle;\n",
       "    }\n",
       "\n",
       "    .dataframe tbody tr th {\n",
       "        vertical-align: top;\n",
       "    }\n",
       "\n",
       "    .dataframe thead th {\n",
       "        text-align: right;\n",
       "    }\n",
       "</style>\n",
       "<table border=\"1\" class=\"dataframe\">\n",
       "  <thead>\n",
       "    <tr style=\"text-align: right;\">\n",
       "      <th></th>\n",
       "      <th>Nama</th>\n",
       "      <th>Umur</th>\n",
       "    </tr>\n",
       "  </thead>\n",
       "  <tbody>\n",
       "    <tr>\n",
       "      <th>2</th>\n",
       "      <td>Camila</td>\n",
       "      <td>30</td>\n",
       "    </tr>\n",
       "    <tr>\n",
       "      <th>3</th>\n",
       "      <td>Donald</td>\n",
       "      <td>32</td>\n",
       "    </tr>\n",
       "    <tr>\n",
       "      <th>6</th>\n",
       "      <td>Gaga</td>\n",
       "      <td>29</td>\n",
       "    </tr>\n",
       "    <tr>\n",
       "      <th>7</th>\n",
       "      <td>Hillary</td>\n",
       "      <td>31</td>\n",
       "    </tr>\n",
       "    <tr>\n",
       "      <th>8</th>\n",
       "      <td>Indro</td>\n",
       "      <td>30</td>\n",
       "    </tr>\n",
       "    <tr>\n",
       "      <th>9</th>\n",
       "      <td>Joko</td>\n",
       "      <td>29</td>\n",
       "    </tr>\n",
       "  </tbody>\n",
       "</table>\n",
       "</div>"
      ],
      "text/plain": [
       "      Nama  Umur\n",
       "2   Camila    30\n",
       "3   Donald    32\n",
       "6     Gaga    29\n",
       "7  Hillary    31\n",
       "8    Indro    30\n",
       "9     Joko    29"
      ]
     },
     "execution_count": 29,
     "metadata": {},
     "output_type": "execute_result"
    }
   ],
   "source": [
    "\n",
    "df[df['Umur'] > df[df['Nama'] == 'Eminem']['Umur'].values[0]][['Nama', 'Umur']]"
   ]
  },
  {
   "cell_type": "markdown",
   "metadata": {},
   "source": [
    "**14. Berdasarkan data, apakah ada wanita yang hobinya traveling?**"
   ]
  },
  {
   "cell_type": "code",
   "execution_count": 30,
   "metadata": {},
   "outputs": [
    {
     "data": {
      "text/html": [
       "<div>\n",
       "<style scoped>\n",
       "    .dataframe tbody tr th:only-of-type {\n",
       "        vertical-align: middle;\n",
       "    }\n",
       "\n",
       "    .dataframe tbody tr th {\n",
       "        vertical-align: top;\n",
       "    }\n",
       "\n",
       "    .dataframe thead th {\n",
       "        text-align: right;\n",
       "    }\n",
       "</style>\n",
       "<table border=\"1\" class=\"dataframe\">\n",
       "  <thead>\n",
       "    <tr style=\"text-align: right;\">\n",
       "      <th></th>\n",
       "      <th>Nama</th>\n",
       "      <th>Umur</th>\n",
       "      <th>Gender</th>\n",
       "      <th>Pekerjaan</th>\n",
       "      <th>Domisili</th>\n",
       "      <th>Hoby</th>\n",
       "    </tr>\n",
       "  </thead>\n",
       "  <tbody>\n",
       "    <tr>\n",
       "      <th>7</th>\n",
       "      <td>Hillary</td>\n",
       "      <td>31</td>\n",
       "      <td>Wanita</td>\n",
       "      <td>ML Researcher</td>\n",
       "      <td>Yogyakarta</td>\n",
       "      <td>Traveling</td>\n",
       "    </tr>\n",
       "  </tbody>\n",
       "</table>\n",
       "</div>"
      ],
      "text/plain": [
       "      Nama  Umur  Gender      Pekerjaan    Domisili       Hoby\n",
       "7  Hillary    31  Wanita  ML Researcher  Yogyakarta  Traveling"
      ]
     },
     "execution_count": 30,
     "metadata": {},
     "output_type": "execute_result"
    }
   ],
   "source": [
    "Lebih_tua_dari_Eminem = df[df['Umur'] > df[df['Nama'] == 'Eminem']['Umur'].values[0]]\n",
    "Lebih_tua_dari_Eminem[Lebih_tua_dari_Eminem['Hoby'] == 'Traveling']"
   ]
  }
 ],
 "metadata": {
  "kernelspec": {
   "display_name": "Python 3 (ipykernel)",
   "language": "python",
   "name": "python3"
  },
  "language_info": {
   "codemirror_mode": {
    "name": "ipython",
    "version": 3
   },
   "file_extension": ".py",
   "mimetype": "text/x-python",
   "name": "python",
   "nbconvert_exporter": "python",
   "pygments_lexer": "ipython3",
   "version": "3.9.13"
  },
  "vscode": {
   "interpreter": {
    "hash": "26d83cb9ebc769f8a392797c85547e3220df367d4f886ed011b3f771d6a84444"
   }
  }
 },
 "nbformat": 4,
 "nbformat_minor": 4
}
