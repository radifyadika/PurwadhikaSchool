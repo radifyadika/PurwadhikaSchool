{
  "cells": [
    {
      "cell_type": "markdown",
      "metadata": {
        "id": "_QB82VZD3pkn"
      },
      "source": [
        "# Exercise"
      ]
    },
    {
      "cell_type": "code",
      "execution_count": null,
      "metadata": {
        "id": "zgUY-EDb3pko"
      },
      "outputs": [],
      "source": [
        "import numpy as np\n",
        "import pandas as pd"
      ]
    },
    {
      "cell_type": "code",
      "execution_count": null,
      "metadata": {
        "id": "UZOoDUV13pko",
        "outputId": "d0e1d108-f192-422c-a7bd-c1427431e34a"
      },
      "outputs": [
        {
          "data": {
            "text/html": [
              "<div>\n",
              "<style scoped>\n",
              "    .dataframe tbody tr th:only-of-type {\n",
              "        vertical-align: middle;\n",
              "    }\n",
              "\n",
              "    .dataframe tbody tr th {\n",
              "        vertical-align: top;\n",
              "    }\n",
              "\n",
              "    .dataframe thead th {\n",
              "        text-align: right;\n",
              "    }\n",
              "</style>\n",
              "<table border=\"1\" class=\"dataframe\">\n",
              "  <thead>\n",
              "    <tr style=\"text-align: right;\">\n",
              "      <th></th>\n",
              "      <th>brand</th>\n",
              "      <th>model</th>\n",
              "      <th>year</th>\n",
              "      <th>price</th>\n",
              "      <th>transmission</th>\n",
              "      <th>mileage</th>\n",
              "      <th>fuelType</th>\n",
              "      <th>tax</th>\n",
              "      <th>mpg</th>\n",
              "      <th>engineSize</th>\n",
              "    </tr>\n",
              "  </thead>\n",
              "  <tbody>\n",
              "    <tr>\n",
              "      <th>0</th>\n",
              "      <td>Audi</td>\n",
              "      <td>A1</td>\n",
              "      <td>2017</td>\n",
              "      <td>12500</td>\n",
              "      <td>Manual</td>\n",
              "      <td>15735</td>\n",
              "      <td>Petrol</td>\n",
              "      <td>150</td>\n",
              "      <td>55.4</td>\n",
              "      <td>1.4</td>\n",
              "    </tr>\n",
              "    <tr>\n",
              "      <th>1</th>\n",
              "      <td>Audi</td>\n",
              "      <td>A6</td>\n",
              "      <td>2016</td>\n",
              "      <td>16500</td>\n",
              "      <td>Automatic</td>\n",
              "      <td>36203</td>\n",
              "      <td>Diesel</td>\n",
              "      <td>20</td>\n",
              "      <td>64.2</td>\n",
              "      <td>2.0</td>\n",
              "    </tr>\n",
              "    <tr>\n",
              "      <th>2</th>\n",
              "      <td>Audi</td>\n",
              "      <td>A1</td>\n",
              "      <td>2016</td>\n",
              "      <td>11000</td>\n",
              "      <td>Manual</td>\n",
              "      <td>29946</td>\n",
              "      <td>Petrol</td>\n",
              "      <td>30</td>\n",
              "      <td>55.4</td>\n",
              "      <td>1.4</td>\n",
              "    </tr>\n",
              "    <tr>\n",
              "      <th>3</th>\n",
              "      <td>Audi</td>\n",
              "      <td>A4</td>\n",
              "      <td>2017</td>\n",
              "      <td>16800</td>\n",
              "      <td>Automatic</td>\n",
              "      <td>25952</td>\n",
              "      <td>Diesel</td>\n",
              "      <td>145</td>\n",
              "      <td>67.3</td>\n",
              "      <td>2.0</td>\n",
              "    </tr>\n",
              "    <tr>\n",
              "      <th>4</th>\n",
              "      <td>Audi</td>\n",
              "      <td>A3</td>\n",
              "      <td>2019</td>\n",
              "      <td>17300</td>\n",
              "      <td>Manual</td>\n",
              "      <td>1998</td>\n",
              "      <td>Petrol</td>\n",
              "      <td>145</td>\n",
              "      <td>49.6</td>\n",
              "      <td>1.0</td>\n",
              "    </tr>\n",
              "    <tr>\n",
              "      <th>...</th>\n",
              "      <td>...</td>\n",
              "      <td>...</td>\n",
              "      <td>...</td>\n",
              "      <td>...</td>\n",
              "      <td>...</td>\n",
              "      <td>...</td>\n",
              "      <td>...</td>\n",
              "      <td>...</td>\n",
              "      <td>...</td>\n",
              "      <td>...</td>\n",
              "    </tr>\n",
              "    <tr>\n",
              "      <th>22261</th>\n",
              "      <td>Toyota</td>\n",
              "      <td>IQ</td>\n",
              "      <td>2011</td>\n",
              "      <td>5500</td>\n",
              "      <td>Automatic</td>\n",
              "      <td>30000</td>\n",
              "      <td>Petrol</td>\n",
              "      <td>20</td>\n",
              "      <td>58.9</td>\n",
              "      <td>1.0</td>\n",
              "    </tr>\n",
              "    <tr>\n",
              "      <th>22262</th>\n",
              "      <td>Toyota</td>\n",
              "      <td>Urban Cruiser</td>\n",
              "      <td>2011</td>\n",
              "      <td>4985</td>\n",
              "      <td>Manual</td>\n",
              "      <td>36154</td>\n",
              "      <td>Petrol</td>\n",
              "      <td>125</td>\n",
              "      <td>50.4</td>\n",
              "      <td>1.3</td>\n",
              "    </tr>\n",
              "    <tr>\n",
              "      <th>22263</th>\n",
              "      <td>Toyota</td>\n",
              "      <td>Urban Cruiser</td>\n",
              "      <td>2012</td>\n",
              "      <td>4995</td>\n",
              "      <td>Manual</td>\n",
              "      <td>46000</td>\n",
              "      <td>Diesel</td>\n",
              "      <td>125</td>\n",
              "      <td>57.6</td>\n",
              "      <td>1.4</td>\n",
              "    </tr>\n",
              "    <tr>\n",
              "      <th>22264</th>\n",
              "      <td>Toyota</td>\n",
              "      <td>Urban Cruiser</td>\n",
              "      <td>2011</td>\n",
              "      <td>3995</td>\n",
              "      <td>Manual</td>\n",
              "      <td>60700</td>\n",
              "      <td>Petrol</td>\n",
              "      <td>125</td>\n",
              "      <td>50.4</td>\n",
              "      <td>1.3</td>\n",
              "    </tr>\n",
              "    <tr>\n",
              "      <th>22265</th>\n",
              "      <td>Toyota</td>\n",
              "      <td>Urban Cruiser</td>\n",
              "      <td>2011</td>\n",
              "      <td>4495</td>\n",
              "      <td>Manual</td>\n",
              "      <td>45128</td>\n",
              "      <td>Petrol</td>\n",
              "      <td>125</td>\n",
              "      <td>50.4</td>\n",
              "      <td>1.3</td>\n",
              "    </tr>\n",
              "  </tbody>\n",
              "</table>\n",
              "<p>22266 rows × 10 columns</p>\n",
              "</div>"
            ],
            "text/plain": [
              "        brand          model  year  price transmission  mileage fuelType  tax  \\\n",
              "0        Audi             A1  2017  12500       Manual    15735   Petrol  150   \n",
              "1        Audi             A6  2016  16500    Automatic    36203   Diesel   20   \n",
              "2        Audi             A1  2016  11000       Manual    29946   Petrol   30   \n",
              "3        Audi             A4  2017  16800    Automatic    25952   Diesel  145   \n",
              "4        Audi             A3  2019  17300       Manual     1998   Petrol  145   \n",
              "...       ...            ...   ...    ...          ...      ...      ...  ...   \n",
              "22261  Toyota             IQ  2011   5500    Automatic    30000   Petrol   20   \n",
              "22262  Toyota  Urban Cruiser  2011   4985       Manual    36154   Petrol  125   \n",
              "22263  Toyota  Urban Cruiser  2012   4995       Manual    46000   Diesel  125   \n",
              "22264  Toyota  Urban Cruiser  2011   3995       Manual    60700   Petrol  125   \n",
              "22265  Toyota  Urban Cruiser  2011   4495       Manual    45128   Petrol  125   \n",
              "\n",
              "        mpg  engineSize  \n",
              "0      55.4         1.4  \n",
              "1      64.2         2.0  \n",
              "2      55.4         1.4  \n",
              "3      67.3         2.0  \n",
              "4      49.6         1.0  \n",
              "...     ...         ...  \n",
              "22261  58.9         1.0  \n",
              "22262  50.4         1.3  \n",
              "22263  57.6         1.4  \n",
              "22264  50.4         1.3  \n",
              "22265  50.4         1.3  \n",
              "\n",
              "[22266 rows x 10 columns]"
            ]
          },
          "execution_count": 3,
          "metadata": {},
          "output_type": "execute_result"
        }
      ],
      "source": [
        "df = pd.read_csv('all_cars.csv')\n",
        "df"
      ]
    },
    {
      "cell_type": "markdown",
      "source": [
        "**No.1**\n",
        "\n",
        "Apakah ada hubungan antara mpg dan price?"
      ],
      "metadata": {
        "id": "hGW2lov95NTV"
      }
    },
    {
      "cell_type": "code",
      "source": [],
      "metadata": {
        "id": "C2YkH9fY5M1f"
      },
      "execution_count": null,
      "outputs": []
    },
    {
      "cell_type": "markdown",
      "source": [
        "### **No.2**\n",
        "\n",
        "Apakah mobil Automatic dari Hyundai dan Toyota memiliki harga yang berbeda? Buktikan dengan\n",
        "Uji Statistik?"
      ],
      "metadata": {
        "id": "TCVqqllj5UHl"
      }
    },
    {
      "cell_type": "code",
      "source": [],
      "metadata": {
        "id": "FuRv_Kgd5MtW"
      },
      "execution_count": null,
      "outputs": []
    },
    {
      "cell_type": "markdown",
      "source": [
        "### **No.3**\n",
        "\n",
        "Apakah rata-rata pajak (tax) semua brand mobil keluaran tahun 2020 sama? Buktikan dengan Uji Statistik!"
      ],
      "metadata": {
        "id": "BkjngX8Z5Ujo"
      }
    },
    {
      "cell_type": "code",
      "source": [],
      "metadata": {
        "id": "GRYTrruK5Mky"
      },
      "execution_count": null,
      "outputs": []
    },
    {
      "cell_type": "markdown",
      "source": [
        "### **No.4**\n",
        "\n",
        "Apakah rata-rata nilai price dari semua mobil Manual adalah 12500 pondsteling! Buktikan dengan Uji Statistik!"
      ],
      "metadata": {
        "id": "AM_3i33T-tzF"
      }
    },
    {
      "cell_type": "code",
      "source": [],
      "metadata": {
        "id": "-QA-s2n6-xs1"
      },
      "execution_count": null,
      "outputs": []
    },
    {
      "cell_type": "markdown",
      "metadata": {
        "id": "N81Wdw363pkp"
      },
      "source": [
        "## **No.5**\n",
        "\n",
        "- Buat sebuah dataframe berisi mobil Hyundai dan Toyota tahun 2019!\n",
        "- Dari dataframe yang telah dibuat, lakukan uji hipotesis untuk membuktikan apakah brand mobil ada kaitannya dengan jenis transmisi!"
      ]
    },
    {
      "cell_type": "code",
      "execution_count": null,
      "metadata": {
        "id": "uDzEXF5s3pkq"
      },
      "outputs": [],
      "source": []
    },
    {
      "cell_type": "markdown",
      "metadata": {
        "id": "Qp15FVOB3pkq"
      },
      "source": [
        "## **No.6**\n",
        "\n",
        "- Apakah 50% dari seluruh mobil yang dijual menggunakan bahan bakar Petrol? Buktikan dengan uji statistik!"
      ]
    },
    {
      "cell_type": "code",
      "execution_count": null,
      "metadata": {
        "id": "4mpID1k-3pkr"
      },
      "outputs": [],
      "source": []
    },
    {
      "cell_type": "markdown",
      "metadata": {
        "id": "3l7hmcbW3pkr"
      },
      "source": [
        "## **No.7**\n",
        "\n",
        "- Apakah proporsi mobil berbahan bakar Diesel pada mobil bertranmisi Manual dan Automatic berbeda! (Apakah proporsi mobil berbahan bakar Diesel dari seluruh mobil bertranmisi Manual berbeda dari proporsi mobil berbahan bakar Diesel dari seluruh mobil bertranmisi Automatic?)\n",
        "\n",
        "- Buktikan dengan uji statistik!"
      ]
    },
    {
      "cell_type": "code",
      "execution_count": null,
      "metadata": {
        "id": "-YwIcrgz3pkr"
      },
      "outputs": [],
      "source": []
    }
  ],
  "metadata": {
    "kernelspec": {
      "display_name": "Python 3.10.5 ('pwdenv')",
      "language": "python",
      "name": "python3"
    },
    "language_info": {
      "codemirror_mode": {
        "name": "ipython",
        "version": 3
      },
      "file_extension": ".py",
      "mimetype": "text/x-python",
      "name": "python",
      "nbconvert_exporter": "python",
      "pygments_lexer": "ipython3",
      "version": "3.10.5"
    },
    "orig_nbformat": 4,
    "vscode": {
      "interpreter": {
        "hash": "26d83cb9ebc769f8a392797c85547e3220df367d4f886ed011b3f771d6a84444"
      }
    },
    "colab": {
      "provenance": []
    }
  },
  "nbformat": 4,
  "nbformat_minor": 0
}