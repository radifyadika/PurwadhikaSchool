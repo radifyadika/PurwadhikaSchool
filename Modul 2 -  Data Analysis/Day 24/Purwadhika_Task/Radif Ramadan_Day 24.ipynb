{
  "cells": [
    {
      "cell_type": "markdown",
      "metadata": {
        "id": "_QB82VZD3pkn"
      },
      "source": [
        "# Exercise"
      ]
    },
    {
      "cell_type": "code",
      "execution_count": 10,
      "metadata": {
        "id": "zgUY-EDb3pko"
      },
      "outputs": [],
      "source": [
        "import numpy as np\n",
        "import pandas as pd\n",
        "from scipy.stats import normaltest, mannwhitneyu, f_oneway, kruskal, ttest_1samp, wilcoxon, chi2_contingency\n",
        "from statsmodels.stats.proportion import proportions_ztest"
      ]
    },
    {
      "cell_type": "code",
      "execution_count": 11,
      "metadata": {
        "id": "UZOoDUV13pko",
        "outputId": "d0e1d108-f192-422c-a7bd-c1427431e34a"
      },
      "outputs": [
        {
          "data": {
            "text/html": [
              "<div>\n",
              "<style scoped>\n",
              "    .dataframe tbody tr th:only-of-type {\n",
              "        vertical-align: middle;\n",
              "    }\n",
              "\n",
              "    .dataframe tbody tr th {\n",
              "        vertical-align: top;\n",
              "    }\n",
              "\n",
              "    .dataframe thead th {\n",
              "        text-align: right;\n",
              "    }\n",
              "</style>\n",
              "<table border=\"1\" class=\"dataframe\">\n",
              "  <thead>\n",
              "    <tr style=\"text-align: right;\">\n",
              "      <th></th>\n",
              "      <th>brand</th>\n",
              "      <th>model</th>\n",
              "      <th>year</th>\n",
              "      <th>price</th>\n",
              "      <th>transmission</th>\n",
              "      <th>mileage</th>\n",
              "      <th>fuelType</th>\n",
              "      <th>tax</th>\n",
              "      <th>mpg</th>\n",
              "      <th>engineSize</th>\n",
              "    </tr>\n",
              "  </thead>\n",
              "  <tbody>\n",
              "    <tr>\n",
              "      <th>0</th>\n",
              "      <td>Audi</td>\n",
              "      <td>A1</td>\n",
              "      <td>2017</td>\n",
              "      <td>12500</td>\n",
              "      <td>Manual</td>\n",
              "      <td>15735</td>\n",
              "      <td>Petrol</td>\n",
              "      <td>150</td>\n",
              "      <td>55.4</td>\n",
              "      <td>1.4</td>\n",
              "    </tr>\n",
              "    <tr>\n",
              "      <th>1</th>\n",
              "      <td>Audi</td>\n",
              "      <td>A6</td>\n",
              "      <td>2016</td>\n",
              "      <td>16500</td>\n",
              "      <td>Automatic</td>\n",
              "      <td>36203</td>\n",
              "      <td>Diesel</td>\n",
              "      <td>20</td>\n",
              "      <td>64.2</td>\n",
              "      <td>2.0</td>\n",
              "    </tr>\n",
              "    <tr>\n",
              "      <th>2</th>\n",
              "      <td>Audi</td>\n",
              "      <td>A1</td>\n",
              "      <td>2016</td>\n",
              "      <td>11000</td>\n",
              "      <td>Manual</td>\n",
              "      <td>29946</td>\n",
              "      <td>Petrol</td>\n",
              "      <td>30</td>\n",
              "      <td>55.4</td>\n",
              "      <td>1.4</td>\n",
              "    </tr>\n",
              "    <tr>\n",
              "      <th>3</th>\n",
              "      <td>Audi</td>\n",
              "      <td>A4</td>\n",
              "      <td>2017</td>\n",
              "      <td>16800</td>\n",
              "      <td>Automatic</td>\n",
              "      <td>25952</td>\n",
              "      <td>Diesel</td>\n",
              "      <td>145</td>\n",
              "      <td>67.3</td>\n",
              "      <td>2.0</td>\n",
              "    </tr>\n",
              "    <tr>\n",
              "      <th>4</th>\n",
              "      <td>Audi</td>\n",
              "      <td>A3</td>\n",
              "      <td>2019</td>\n",
              "      <td>17300</td>\n",
              "      <td>Manual</td>\n",
              "      <td>1998</td>\n",
              "      <td>Petrol</td>\n",
              "      <td>145</td>\n",
              "      <td>49.6</td>\n",
              "      <td>1.0</td>\n",
              "    </tr>\n",
              "    <tr>\n",
              "      <th>...</th>\n",
              "      <td>...</td>\n",
              "      <td>...</td>\n",
              "      <td>...</td>\n",
              "      <td>...</td>\n",
              "      <td>...</td>\n",
              "      <td>...</td>\n",
              "      <td>...</td>\n",
              "      <td>...</td>\n",
              "      <td>...</td>\n",
              "      <td>...</td>\n",
              "    </tr>\n",
              "    <tr>\n",
              "      <th>22261</th>\n",
              "      <td>Toyota</td>\n",
              "      <td>IQ</td>\n",
              "      <td>2011</td>\n",
              "      <td>5500</td>\n",
              "      <td>Automatic</td>\n",
              "      <td>30000</td>\n",
              "      <td>Petrol</td>\n",
              "      <td>20</td>\n",
              "      <td>58.9</td>\n",
              "      <td>1.0</td>\n",
              "    </tr>\n",
              "    <tr>\n",
              "      <th>22262</th>\n",
              "      <td>Toyota</td>\n",
              "      <td>Urban Cruiser</td>\n",
              "      <td>2011</td>\n",
              "      <td>4985</td>\n",
              "      <td>Manual</td>\n",
              "      <td>36154</td>\n",
              "      <td>Petrol</td>\n",
              "      <td>125</td>\n",
              "      <td>50.4</td>\n",
              "      <td>1.3</td>\n",
              "    </tr>\n",
              "    <tr>\n",
              "      <th>22263</th>\n",
              "      <td>Toyota</td>\n",
              "      <td>Urban Cruiser</td>\n",
              "      <td>2012</td>\n",
              "      <td>4995</td>\n",
              "      <td>Manual</td>\n",
              "      <td>46000</td>\n",
              "      <td>Diesel</td>\n",
              "      <td>125</td>\n",
              "      <td>57.6</td>\n",
              "      <td>1.4</td>\n",
              "    </tr>\n",
              "    <tr>\n",
              "      <th>22264</th>\n",
              "      <td>Toyota</td>\n",
              "      <td>Urban Cruiser</td>\n",
              "      <td>2011</td>\n",
              "      <td>3995</td>\n",
              "      <td>Manual</td>\n",
              "      <td>60700</td>\n",
              "      <td>Petrol</td>\n",
              "      <td>125</td>\n",
              "      <td>50.4</td>\n",
              "      <td>1.3</td>\n",
              "    </tr>\n",
              "    <tr>\n",
              "      <th>22265</th>\n",
              "      <td>Toyota</td>\n",
              "      <td>Urban Cruiser</td>\n",
              "      <td>2011</td>\n",
              "      <td>4495</td>\n",
              "      <td>Manual</td>\n",
              "      <td>45128</td>\n",
              "      <td>Petrol</td>\n",
              "      <td>125</td>\n",
              "      <td>50.4</td>\n",
              "      <td>1.3</td>\n",
              "    </tr>\n",
              "  </tbody>\n",
              "</table>\n",
              "<p>22266 rows × 10 columns</p>\n",
              "</div>"
            ],
            "text/plain": [
              "        brand          model  year  price transmission  mileage fuelType  tax  \\\n",
              "0        Audi             A1  2017  12500       Manual    15735   Petrol  150   \n",
              "1        Audi             A6  2016  16500    Automatic    36203   Diesel   20   \n",
              "2        Audi             A1  2016  11000       Manual    29946   Petrol   30   \n",
              "3        Audi             A4  2017  16800    Automatic    25952   Diesel  145   \n",
              "4        Audi             A3  2019  17300       Manual     1998   Petrol  145   \n",
              "...       ...            ...   ...    ...          ...      ...      ...  ...   \n",
              "22261  Toyota             IQ  2011   5500    Automatic    30000   Petrol   20   \n",
              "22262  Toyota  Urban Cruiser  2011   4985       Manual    36154   Petrol  125   \n",
              "22263  Toyota  Urban Cruiser  2012   4995       Manual    46000   Diesel  125   \n",
              "22264  Toyota  Urban Cruiser  2011   3995       Manual    60700   Petrol  125   \n",
              "22265  Toyota  Urban Cruiser  2011   4495       Manual    45128   Petrol  125   \n",
              "\n",
              "        mpg  engineSize  \n",
              "0      55.4         1.4  \n",
              "1      64.2         2.0  \n",
              "2      55.4         1.4  \n",
              "3      67.3         2.0  \n",
              "4      49.6         1.0  \n",
              "...     ...         ...  \n",
              "22261  58.9         1.0  \n",
              "22262  50.4         1.3  \n",
              "22263  57.6         1.4  \n",
              "22264  50.4         1.3  \n",
              "22265  50.4         1.3  \n",
              "\n",
              "[22266 rows x 10 columns]"
            ]
          },
          "execution_count": 11,
          "metadata": {},
          "output_type": "execute_result"
        }
      ],
      "source": [
        "df = pd.read_csv('all_cars.csv')\n",
        "df"
      ]
    },
    {
      "cell_type": "code",
      "execution_count": 12,
      "metadata": {},
      "outputs": [
        {
          "data": {
            "text/html": [
              "<div>\n",
              "<style scoped>\n",
              "    .dataframe tbody tr th:only-of-type {\n",
              "        vertical-align: middle;\n",
              "    }\n",
              "\n",
              "    .dataframe tbody tr th {\n",
              "        vertical-align: top;\n",
              "    }\n",
              "\n",
              "    .dataframe thead th {\n",
              "        text-align: right;\n",
              "    }\n",
              "</style>\n",
              "<table border=\"1\" class=\"dataframe\">\n",
              "  <thead>\n",
              "    <tr style=\"text-align: right;\">\n",
              "      <th></th>\n",
              "      <th>year</th>\n",
              "      <th>price</th>\n",
              "      <th>mileage</th>\n",
              "      <th>tax</th>\n",
              "      <th>mpg</th>\n",
              "      <th>engineSize</th>\n",
              "    </tr>\n",
              "  </thead>\n",
              "  <tbody>\n",
              "    <tr>\n",
              "      <th>count</th>\n",
              "      <td>22266.000000</td>\n",
              "      <td>22266.000000</td>\n",
              "      <td>22266.000000</td>\n",
              "      <td>22266.000000</td>\n",
              "      <td>22266.000000</td>\n",
              "      <td>22266.000000</td>\n",
              "    </tr>\n",
              "    <tr>\n",
              "      <th>mean</th>\n",
              "      <td>2016.995509</td>\n",
              "      <td>17542.591575</td>\n",
              "      <td>23501.863604</td>\n",
              "      <td>115.473592</td>\n",
              "      <td>55.151181</td>\n",
              "      <td>1.688489</td>\n",
              "    </tr>\n",
              "    <tr>\n",
              "      <th>std</th>\n",
              "      <td>2.133576</td>\n",
              "      <td>10589.835312</td>\n",
              "      <td>21111.157417</td>\n",
              "      <td>68.835239</td>\n",
              "      <td>14.834181</td>\n",
              "      <td>0.566379</td>\n",
              "    </tr>\n",
              "    <tr>\n",
              "      <th>min</th>\n",
              "      <td>1997.000000</td>\n",
              "      <td>850.000000</td>\n",
              "      <td>1.000000</td>\n",
              "      <td>0.000000</td>\n",
              "      <td>1.100000</td>\n",
              "      <td>0.000000</td>\n",
              "    </tr>\n",
              "    <tr>\n",
              "      <th>25%</th>\n",
              "      <td>2016.000000</td>\n",
              "      <td>9999.000000</td>\n",
              "      <td>7200.000000</td>\n",
              "      <td>30.000000</td>\n",
              "      <td>44.800000</td>\n",
              "      <td>1.400000</td>\n",
              "    </tr>\n",
              "    <tr>\n",
              "      <th>50%</th>\n",
              "      <td>2017.000000</td>\n",
              "      <td>14999.000000</td>\n",
              "      <td>18354.000000</td>\n",
              "      <td>145.000000</td>\n",
              "      <td>55.400000</td>\n",
              "      <td>1.600000</td>\n",
              "    </tr>\n",
              "    <tr>\n",
              "      <th>75%</th>\n",
              "      <td>2019.000000</td>\n",
              "      <td>21991.000000</td>\n",
              "      <td>33100.750000</td>\n",
              "      <td>145.000000</td>\n",
              "      <td>62.800000</td>\n",
              "      <td>2.000000</td>\n",
              "    </tr>\n",
              "    <tr>\n",
              "      <th>max</th>\n",
              "      <td>2020.000000</td>\n",
              "      <td>145000.000000</td>\n",
              "      <td>323000.000000</td>\n",
              "      <td>580.000000</td>\n",
              "      <td>256.800000</td>\n",
              "      <td>6.300000</td>\n",
              "    </tr>\n",
              "  </tbody>\n",
              "</table>\n",
              "</div>"
            ],
            "text/plain": [
              "               year          price        mileage           tax           mpg  \\\n",
              "count  22266.000000   22266.000000   22266.000000  22266.000000  22266.000000   \n",
              "mean    2016.995509   17542.591575   23501.863604    115.473592     55.151181   \n",
              "std        2.133576   10589.835312   21111.157417     68.835239     14.834181   \n",
              "min     1997.000000     850.000000       1.000000      0.000000      1.100000   \n",
              "25%     2016.000000    9999.000000    7200.000000     30.000000     44.800000   \n",
              "50%     2017.000000   14999.000000   18354.000000    145.000000     55.400000   \n",
              "75%     2019.000000   21991.000000   33100.750000    145.000000     62.800000   \n",
              "max     2020.000000  145000.000000  323000.000000    580.000000    256.800000   \n",
              "\n",
              "         engineSize  \n",
              "count  22266.000000  \n",
              "mean       1.688489  \n",
              "std        0.566379  \n",
              "min        0.000000  \n",
              "25%        1.400000  \n",
              "50%        1.600000  \n",
              "75%        2.000000  \n",
              "max        6.300000  "
            ]
          },
          "execution_count": 12,
          "metadata": {},
          "output_type": "execute_result"
        }
      ],
      "source": [
        "df.describe()"
      ]
    },
    {
      "cell_type": "code",
      "execution_count": 13,
      "metadata": {},
      "outputs": [
        {
          "data": {
            "text/html": [
              "<div>\n",
              "<style scoped>\n",
              "    .dataframe tbody tr th:only-of-type {\n",
              "        vertical-align: middle;\n",
              "    }\n",
              "\n",
              "    .dataframe tbody tr th {\n",
              "        vertical-align: top;\n",
              "    }\n",
              "\n",
              "    .dataframe thead th {\n",
              "        text-align: right;\n",
              "    }\n",
              "</style>\n",
              "<table border=\"1\" class=\"dataframe\">\n",
              "  <thead>\n",
              "    <tr style=\"text-align: right;\">\n",
              "      <th></th>\n",
              "      <th>brand</th>\n",
              "      <th>model</th>\n",
              "      <th>year</th>\n",
              "      <th>price</th>\n",
              "      <th>transmission</th>\n",
              "      <th>mileage</th>\n",
              "      <th>fuelType</th>\n",
              "      <th>tax</th>\n",
              "      <th>mpg</th>\n",
              "      <th>engineSize</th>\n",
              "    </tr>\n",
              "  </thead>\n",
              "  <tbody>\n",
              "    <tr>\n",
              "      <th>4</th>\n",
              "      <td>Audi</td>\n",
              "      <td>A3</td>\n",
              "      <td>2019</td>\n",
              "      <td>17300</td>\n",
              "      <td>Manual</td>\n",
              "      <td>1998</td>\n",
              "      <td>Petrol</td>\n",
              "      <td>145</td>\n",
              "      <td>49.6</td>\n",
              "      <td>1.0</td>\n",
              "    </tr>\n",
              "    <tr>\n",
              "      <th>12</th>\n",
              "      <td>Audi</td>\n",
              "      <td>Q3</td>\n",
              "      <td>2016</td>\n",
              "      <td>17000</td>\n",
              "      <td>Manual</td>\n",
              "      <td>44915</td>\n",
              "      <td>Diesel</td>\n",
              "      <td>145</td>\n",
              "      <td>52.3</td>\n",
              "      <td>2.0</td>\n",
              "    </tr>\n",
              "    <tr>\n",
              "      <th>16</th>\n",
              "      <td>Audi</td>\n",
              "      <td>Q3</td>\n",
              "      <td>2016</td>\n",
              "      <td>15700</td>\n",
              "      <td>Automatic</td>\n",
              "      <td>28396</td>\n",
              "      <td>Diesel</td>\n",
              "      <td>145</td>\n",
              "      <td>53.3</td>\n",
              "      <td>2.0</td>\n",
              "    </tr>\n",
              "    <tr>\n",
              "      <th>18</th>\n",
              "      <td>Audi</td>\n",
              "      <td>Q5</td>\n",
              "      <td>2016</td>\n",
              "      <td>19000</td>\n",
              "      <td>Automatic</td>\n",
              "      <td>37652</td>\n",
              "      <td>Diesel</td>\n",
              "      <td>200</td>\n",
              "      <td>47.1</td>\n",
              "      <td>2.0</td>\n",
              "    </tr>\n",
              "    <tr>\n",
              "      <th>19</th>\n",
              "      <td>Audi</td>\n",
              "      <td>Q3</td>\n",
              "      <td>2014</td>\n",
              "      <td>17000</td>\n",
              "      <td>Manual</td>\n",
              "      <td>34110</td>\n",
              "      <td>Petrol</td>\n",
              "      <td>145</td>\n",
              "      <td>47.9</td>\n",
              "      <td>1.4</td>\n",
              "    </tr>\n",
              "    <tr>\n",
              "      <th>...</th>\n",
              "      <td>...</td>\n",
              "      <td>...</td>\n",
              "      <td>...</td>\n",
              "      <td>...</td>\n",
              "      <td>...</td>\n",
              "      <td>...</td>\n",
              "      <td>...</td>\n",
              "      <td>...</td>\n",
              "      <td>...</td>\n",
              "      <td>...</td>\n",
              "    </tr>\n",
              "    <tr>\n",
              "      <th>22253</th>\n",
              "      <td>Toyota</td>\n",
              "      <td>Verso-S</td>\n",
              "      <td>2012</td>\n",
              "      <td>5795</td>\n",
              "      <td>Automatic</td>\n",
              "      <td>61237</td>\n",
              "      <td>Petrol</td>\n",
              "      <td>30</td>\n",
              "      <td>54.3</td>\n",
              "      <td>1.3</td>\n",
              "    </tr>\n",
              "    <tr>\n",
              "      <th>22257</th>\n",
              "      <td>Toyota</td>\n",
              "      <td>IQ</td>\n",
              "      <td>2013</td>\n",
              "      <td>4950</td>\n",
              "      <td>Manual</td>\n",
              "      <td>72913</td>\n",
              "      <td>Petrol</td>\n",
              "      <td>30</td>\n",
              "      <td>54.3</td>\n",
              "      <td>1.3</td>\n",
              "    </tr>\n",
              "    <tr>\n",
              "      <th>22262</th>\n",
              "      <td>Toyota</td>\n",
              "      <td>Urban Cruiser</td>\n",
              "      <td>2011</td>\n",
              "      <td>4985</td>\n",
              "      <td>Manual</td>\n",
              "      <td>36154</td>\n",
              "      <td>Petrol</td>\n",
              "      <td>125</td>\n",
              "      <td>50.4</td>\n",
              "      <td>1.3</td>\n",
              "    </tr>\n",
              "    <tr>\n",
              "      <th>22264</th>\n",
              "      <td>Toyota</td>\n",
              "      <td>Urban Cruiser</td>\n",
              "      <td>2011</td>\n",
              "      <td>3995</td>\n",
              "      <td>Manual</td>\n",
              "      <td>60700</td>\n",
              "      <td>Petrol</td>\n",
              "      <td>125</td>\n",
              "      <td>50.4</td>\n",
              "      <td>1.3</td>\n",
              "    </tr>\n",
              "    <tr>\n",
              "      <th>22265</th>\n",
              "      <td>Toyota</td>\n",
              "      <td>Urban Cruiser</td>\n",
              "      <td>2011</td>\n",
              "      <td>4495</td>\n",
              "      <td>Manual</td>\n",
              "      <td>45128</td>\n",
              "      <td>Petrol</td>\n",
              "      <td>125</td>\n",
              "      <td>50.4</td>\n",
              "      <td>1.3</td>\n",
              "    </tr>\n",
              "  </tbody>\n",
              "</table>\n",
              "<p>10780 rows × 10 columns</p>\n",
              "</div>"
            ],
            "text/plain": [
              "        brand          model  year  price transmission  mileage fuelType  tax  \\\n",
              "4        Audi             A3  2019  17300       Manual     1998   Petrol  145   \n",
              "12       Audi             Q3  2016  17000       Manual    44915   Diesel  145   \n",
              "16       Audi             Q3  2016  15700    Automatic    28396   Diesel  145   \n",
              "18       Audi             Q5  2016  19000    Automatic    37652   Diesel  200   \n",
              "19       Audi             Q3  2014  17000       Manual    34110   Petrol  145   \n",
              "...       ...            ...   ...    ...          ...      ...      ...  ...   \n",
              "22253  Toyota        Verso-S  2012   5795    Automatic    61237   Petrol   30   \n",
              "22257  Toyota             IQ  2013   4950       Manual    72913   Petrol   30   \n",
              "22262  Toyota  Urban Cruiser  2011   4985       Manual    36154   Petrol  125   \n",
              "22264  Toyota  Urban Cruiser  2011   3995       Manual    60700   Petrol  125   \n",
              "22265  Toyota  Urban Cruiser  2011   4495       Manual    45128   Petrol  125   \n",
              "\n",
              "        mpg  engineSize  \n",
              "4      49.6         1.0  \n",
              "12     52.3         2.0  \n",
              "16     53.3         2.0  \n",
              "18     47.1         2.0  \n",
              "19     47.9         1.4  \n",
              "...     ...         ...  \n",
              "22253  54.3         1.3  \n",
              "22257  54.3         1.3  \n",
              "22262  50.4         1.3  \n",
              "22264  50.4         1.3  \n",
              "22265  50.4         1.3  \n",
              "\n",
              "[10780 rows x 10 columns]"
            ]
          },
          "execution_count": 13,
          "metadata": {},
          "output_type": "execute_result"
        }
      ],
      "source": [
        "df[df['mpg'] < 55]"
      ]
    },
    {
      "cell_type": "markdown",
      "metadata": {
        "id": "hGW2lov95NTV"
      },
      "source": [
        "**No.1**\n",
        "\n",
        "Apakah ada hubungan antara mpg dan price?"
      ]
    },
    {
      "cell_type": "code",
      "execution_count": 14,
      "metadata": {
        "id": "C2YkH9fY5M1f"
      },
      "outputs": [
        {
          "data": {
            "text/plain": [
              "-0.45849420801316665"
            ]
          },
          "execution_count": 14,
          "metadata": {},
          "output_type": "execute_result"
        }
      ],
      "source": [
        "df['mpg'].corr(df['price'])"
      ]
    },
    {
      "cell_type": "markdown",
      "metadata": {},
      "source": [
        "Terdapat hubungan sebesar **-0,45** antara mpg dan harga mobil, yang menunjukkan adanya **hubungan negatif (berkebalikan)** yang **cukup kuat (sedang)**. Dengan kata lain, semakin kecil nilai mpg, semakin mahal harga mobilnya, atau semakin murah harga mobilnya, semakin besar nilai mpg-nya. \n",
        "\n",
        "Tetapi secara umum, yang kita ketahui bahwa mobil dengan mpg (efisiensi bahan bakar) yang tinggi seharusnya memiliki harga yang lebih mahal. Namun, dalam konteks ini, terdapat beberapa mobil bertipe bahan bakar 'Diesel' dan 'Petrol' yang didominasi oleh mobil mewah yang cenderung boros bahan bakar (mpg kecil)"
      ]
    },
    {
      "cell_type": "markdown",
      "metadata": {
        "id": "TCVqqllj5UHl"
      },
      "source": [
        "### **No.2**\n",
        "\n",
        "Apakah mobil Automatic dari Hyundai dan Toyota memiliki harga yang berbeda? Buktikan dengan\n",
        "Uji Statistik?"
      ]
    },
    {
      "cell_type": "code",
      "execution_count": 15,
      "metadata": {},
      "outputs": [
        {
          "name": "stdout",
          "output_type": "stream",
          "text": [
            "Nilai pval Hyundai: 9.695613294664117e-103 maka Asumsi: Kita memiliki cukup bukti untuk menolak H0, sehingga asumsi distribusi cenderung Tidak Normal\n",
            "Nilai pval Toyota: 5.546109373319639e-136 maka Asumsi: Kita memiliki cukup bukti untuk menolak H0, sehingga asumsi distribusi cenderung Tidak Normal\n"
          ]
        }
      ],
      "source": [
        "# Sebelumnya dilakukan terlebih dahulu uji normalitas data untuk melihat apakah data yang ingin di uji berdistribusi normal atau tidak\n",
        "\n",
        "brands = ['Hyundai', 'Toyota']\n",
        "for brand in brands:\n",
        "    price = df[(df['transmission'] == 'Automatic') & (df['brand'] == brand)]['price']\n",
        "    st, pval = normaltest(price)\n",
        "    if pval > 0.05:\n",
        "        print(f\"Nilai pval {brand}: {pval} maka Asumsi: Kita tidak memiliki cukup bukti untuk menolak H0, sehingga asumsi distribusi cenderung Normal\")\n",
        "    else:\n",
        "        print(f\"Nilai pval {brand}: {pval} maka Asumsi: Kita memiliki cukup bukti untuk menolak H0, sehingga asumsi distribusi cenderung Tidak Normal\")"
      ]
    },
    {
      "cell_type": "code",
      "execution_count": 16,
      "metadata": {},
      "outputs": [],
      "source": [
        "hyundai_price = df[(df['transmission'] == 'Automatic') & (df['brand'] == 'Hyundai')]['price']\n",
        "toyota_price = df[(df['transmission'] == 'Automatic') & (df['brand'] == 'Toyota')]['price']"
      ]
    },
    {
      "cell_type": "markdown",
      "metadata": {},
      "source": [
        "Didapatkan bahwa kedua nya memiliki distribusi yang di asumsikan tidak Normal, maka untuk Uji stastik kedua harga tersebut adalah menggunakan **Mann Whitney 2 sample** karna menggunakan Uji Non-Parametrik"
      ]
    },
    {
      "cell_type": "code",
      "execution_count": 17,
      "metadata": {
        "id": "FuRv_Kgd5MtW"
      },
      "outputs": [
        {
          "name": "stdout",
          "output_type": "stream",
          "text": [
            "Nilai p-value: 0.6420999494897854, maka Asumsi: Menunjukkan bahwa terdapat perbedaan yang signifikan antara harga mobil Automatic dari Hyundai dan Toyota\n"
          ]
        }
      ],
      "source": [
        "tval, pval = mannwhitneyu(hyundai_price,toyota_price)\n",
        "if pval < 0.05:\n",
        "    print(f\"Nilai p-value: {pval}, maka Asumsi: Tidak menunjukkan bahwa terdapat perbedaan yang signifikan antara harga mobil Automatic dari Hyundai dan Toyota\")\n",
        "else:\n",
        "    print(f\"Nilai p-value: {pval}, maka Asumsi: Menunjukkan bahwa terdapat perbedaan yang signifikan antara harga mobil Automatic dari Hyundai dan Toyota\")"
      ]
    },
    {
      "cell_type": "markdown",
      "metadata": {
        "id": "BkjngX8Z5Ujo"
      },
      "source": [
        "### **No.3**\n",
        "\n",
        "Apakah rata-rata pajak (tax) semua brand mobil keluaran tahun 2020 sama? Buktikan dengan Uji Statistik!"
      ]
    },
    {
      "cell_type": "code",
      "execution_count": 18,
      "metadata": {},
      "outputs": [
        {
          "name": "stdout",
          "output_type": "stream",
          "text": [
            "ANOVA Stat: 2.6466757937492953, p-value: 0.0713830007410631\n",
            "\n",
            "ANOVA: Terima H0, tidak cukup bukti untuk menolak bahwa rata-rata tax sama untuk semua merek\n"
          ]
        }
      ],
      "source": [
        "# ANOVA jika distribusi normal\n",
        "\n",
        "brand3 = ['Hyundai', 'Toyota', 'Audi']\n",
        "avg_tax = {}\n",
        "\n",
        "for brand in brand3:\n",
        "    avg_tax[brand] = df[(df['brand'] == brand) & (df['year'] == 2020)]['tax']\n",
        "\n",
        "fval, pval = f_oneway(*avg_tax.values())\n",
        "\n",
        "print(f\"ANOVA Stat: {fval}, p-value: {pval}\\n\")\n",
        "\n",
        "if pval < 0.05:\n",
        "    print('ANOVA: Tolak H0, terdapat setidaknya dari 1 brand yang rata-rata taxnya tidak sama ')\n",
        "else:\n",
        "    print('ANOVA: Terima H0, tidak cukup bukti untuk menolak bahwa rata-rata tax sama untuk semua merek')"
      ]
    },
    {
      "cell_type": "code",
      "execution_count": 19,
      "metadata": {},
      "outputs": [
        {
          "name": "stdout",
          "output_type": "stream",
          "text": [
            "Kruskal Stat: 35.36807606000119, p-value: 2.0889106582577942e-08\n",
            "\n",
            "Kruskal-Wallis: Tolak H0, terdapat perbedaan signifikan antara rata-rata tax dari setidaknya 1 merek\n"
          ]
        }
      ],
      "source": [
        "# KRUSKAL jika tidak berdistribusi normal\n",
        "\n",
        "for brand in brand3:\n",
        "    avg_tax[brand] = df[(df['brand'] == brand) & (df['year'] == 2020)]['tax']\n",
        "\n",
        "hval, pval = kruskal(*avg_tax.values())\n",
        "\n",
        "print(f\"Kruskal Stat: {hval}, p-value: {pval}\\n\")\n",
        "\n",
        "if pval < 0.05:\n",
        "    print('Kruskal-Wallis: Tolak H0, terdapat perbedaan signifikan antara rata-rata tax dari setidaknya 1 merek')\n",
        "else:\n",
        "    print('Kruskal-Wallis: Terima H0, tidak cukup bukti untuk menolak bahwa rata-rata tax sama untuk semua merek')"
      ]
    },
    {
      "cell_type": "markdown",
      "metadata": {
        "id": "AM_3i33T-tzF"
      },
      "source": [
        "### **No.4**\n",
        "\n",
        "Apakah rata-rata nilai price dari semua mobil Manual adalah 12500 pondsteling! Buktikan dengan Uji Statistik!"
      ]
    },
    {
      "cell_type": "code",
      "execution_count": 20,
      "metadata": {
        "id": "-QA-s2n6-xs1"
      },
      "outputs": [
        {
          "name": "stdout",
          "output_type": "stream",
          "text": [
            "T-Test Paired Stat: -1.2653069516170026, p-value: 0.20578628955155356\n",
            "\n",
            "Terima Ho\n"
          ]
        }
      ],
      "source": [
        "#  T test Paired\n",
        "\n",
        "tval, pval = ttest_1samp(df[df['transmission'] == 'Manual']['price'], 12500)\n",
        "\n",
        "print(f\"T-Test Paired Stat: {tval}, p-value: {pval}\\n\")\n",
        "\n",
        "if pval/2 < 0.05:\n",
        "    # Ho : rata-rata unit_price = 12500\n",
        "    # Ha : rata-rata unit price < 12500\n",
        "    print(\"Tolak Ho\")\n",
        "else:\n",
        "    print(\"Terima Ho\")"
      ]
    },
    {
      "cell_type": "code",
      "execution_count": 21,
      "metadata": {},
      "outputs": [
        {
          "name": "stdout",
          "output_type": "stream",
          "text": [
            "Wilcoxon Stat: 30596777.5, p-value: 5.202263145824944e-28\n",
            "\n",
            "Terima Ho\n"
          ]
        }
      ],
      "source": [
        "# Wilcoxon\n",
        "\n",
        "tval, pval = wilcoxon(df[df['transmission'] == 'Manual']['price'] - 12500)\n",
        "\n",
        "print(f\"Wilcoxon Stat: {tval}, p-value: {pval}\\n\")\n",
        "\n",
        "if pval/2 < 0.05 and (df[df['transmission'] == 'Manual']['price'].median() > 12500):\n",
        "    # Ho : rata-rata unit_price = 12500\n",
        "    # Ha : rata-rata unit price < 12500\n",
        "    print(\"Tolak Ho\")\n",
        "else:\n",
        "    print(\"Terima Ho\")"
      ]
    },
    {
      "cell_type": "markdown",
      "metadata": {
        "id": "N81Wdw363pkp"
      },
      "source": [
        "## **No.5**\n",
        "\n",
        "- Buat sebuah dataframe berisi mobil Hyundai dan Toyota tahun 2019!\n",
        "- Dari dataframe yang telah dibuat, lakukan uji hipotesis untuk membuktikan apakah brand mobil ada kaitannya dengan jenis transmisi!"
      ]
    },
    {
      "cell_type": "code",
      "execution_count": 22,
      "metadata": {
        "id": "uDzEXF5s3pkq"
      },
      "outputs": [
        {
          "name": "stdout",
          "output_type": "stream",
          "text": [
            "Chi2 Stat: 203.77863785068098, p-value: 5.623815000905951e-45\n",
            "\n",
            "Tolak Ho: Ada hubungan antara merek mobil (Toyota dan Hyundai) dengan jenis transmisi.\n"
          ]
        }
      ],
      "source": [
        "hyundai_toyota = df[(df['brand'].isin(['Hyundai', 'Toyota'])) & (df['year'] == 2019)]\n",
        "contingency_table = pd.crosstab(hyundai_toyota['brand'], hyundai_toyota['transmission'])\n",
        "\n",
        "chi2, p, dof, expected = chi2_contingency(contingency_table)\n",
        "\n",
        "print(f\"Chi2 Stat: {chi2}, p-value: {p}\\n\")\n",
        "\n",
        "if p < 0.05:\n",
        "    print(\"Tolak Ho: Ada hubungan antara merek mobil (Toyota dan Hyundai) dengan jenis transmisi.\")\n",
        "else:\n",
        "    print(\"Gagal tolak Ho: Tidak ada hubungan antara merek mobil (Toyota dan Hyundai) dengan jenis transmisi.\")"
      ]
    },
    {
      "cell_type": "markdown",
      "metadata": {
        "id": "Qp15FVOB3pkq"
      },
      "source": [
        "## **No.6**\n",
        "\n",
        "- Apakah 50% dari seluruh mobil yang dijual menggunakan bahan bakar Petrol? Buktikan dengan uji statistik!"
      ]
    },
    {
      "cell_type": "code",
      "execution_count": 23,
      "metadata": {
        "id": "4mpID1k-3pkr"
      },
      "outputs": [
        {
          "name": "stdout",
          "output_type": "stream",
          "text": [
            "\n",
            "Uji Proporsi Satu Sampel:\n",
            "Z-Stat: 12.359734037187444, p-value: 4.3158227056675195e-35\n",
            "\n",
            "Tolak Ho: Proporsi mobil yang menggunakan bahan bakar petrol tidak sama dengan 50%.\n"
          ]
        }
      ],
      "source": [
        "count_petrol = sum(df['fuelType'] == 'Petrol')\n",
        "n = len(df)\n",
        "\n",
        "stat, p_value = proportions_ztest(count_petrol, n, 0.5)\n",
        "\n",
        "print(\"\\nUji Proporsi Satu Sampel:\")\n",
        "print(f\"Z-Stat: {stat}, p-value: {p_value}\\n\")\n",
        "\n",
        "if p_value < 0.05:\n",
        "    print(\"Tolak Ho: Proporsi mobil yang menggunakan bahan bakar petrol tidak sama dengan 50%.\")\n",
        "else:\n",
        "    print(\"Terima Ho: Proporsi mobil yang menggunakan bahan bakar petrol sama dengan 50%.\")"
      ]
    },
    {
      "cell_type": "markdown",
      "metadata": {
        "id": "3l7hmcbW3pkr"
      },
      "source": [
        "## **No.7**\n",
        "\n",
        "- Apakah proporsi mobil berbahan bakar Diesel pada mobil bertranmisi Manual dan Automatic berbeda! (Apakah proporsi mobil berbahan bakar Diesel dari seluruh mobil bertranmisi Manual berbeda dari proporsi mobil berbahan bakar Diesel dari seluruh mobil bertranmisi Automatic?)\n",
        "\n",
        "- Buktikan dengan uji statistik!"
      ]
    },
    {
      "cell_type": "code",
      "execution_count": 24,
      "metadata": {
        "id": "-YwIcrgz3pkr"
      },
      "outputs": [
        {
          "name": "stdout",
          "output_type": "stream",
          "text": [
            "\n",
            "Uji Proporsi Dua Sampel (Manual vs Automatic):\n",
            "Z-Stat: -3.584508418827359, p-value: 0.00033771367194938205\n",
            "\n",
            "Tolak Ho: Proporsi mobil berbahan bakar Diesel pada mobil bertransmisi Manual berbeda dengan proporsi mobil berbahan bakar Diesel pada mobil bertransmisi Automatic.\n"
          ]
        }
      ],
      "source": [
        "count_manual_diesel = sum((df['transmission'] == 'Manual') & (df['fuelType'] == 'Diesel'))\n",
        "manual_total = sum(df['transmission'] == 'Manual')\n",
        "count_automatic_diesel = sum((df['transmission'] == 'Automatic') & (df['fuelType'] == 'Diesel'))\n",
        "automatic_total = sum(df['transmission'] == 'Automatic')\n",
        "\n",
        "stat, p_value = proportions_ztest([count_manual_diesel, count_automatic_diesel], [manual_total, automatic_total])\n",
        "\n",
        "print(\"\\nUji Proporsi Dua Sampel (Manual vs Automatic):\")\n",
        "print(f\"Z-Stat: {stat}, p-value: {p_value}\\n\")\n",
        "\n",
        "\n",
        "if p_value < 0.05:\n",
        "    print(\"Tolak Ho: Proporsi mobil berbahan bakar Diesel pada mobil bertransmisi Manual berbeda dengan proporsi mobil berbahan bakar Diesel pada mobil bertransmisi Automatic.\")\n",
        "else:\n",
        "    print(\"Gagal tolak Ho: Proporsi mobil berbahan bakar Diesel pada mobil bertransmisi Manual sama dengan proporsi mobil berbahan bakar Diesel pada mobil bertransmisi Automatic.\")"
      ]
    }
  ],
  "metadata": {
    "colab": {
      "provenance": []
    },
    "kernelspec": {
      "display_name": "Python 3.10.5 ('pwdenv')",
      "language": "python",
      "name": "python3"
    },
    "language_info": {
      "codemirror_mode": {
        "name": "ipython",
        "version": 3
      },
      "file_extension": ".py",
      "mimetype": "text/x-python",
      "name": "python",
      "nbconvert_exporter": "python",
      "pygments_lexer": "ipython3",
      "version": "3.9.13"
    },
    "orig_nbformat": 4,
    "vscode": {
      "interpreter": {
        "hash": "26d83cb9ebc769f8a392797c85547e3220df367d4f886ed011b3f771d6a84444"
      }
    }
  },
  "nbformat": 4,
  "nbformat_minor": 0
}
